{
 "cells": [
  {
   "cell_type": "code",
   "execution_count": 1,
   "metadata": {},
   "outputs": [],
   "source": [
    "import pandas as pd\n",
    "import numpy as np\n",
    "import matplotlib.pyplot as plt"
   ]
  },
  {
   "cell_type": "code",
   "execution_count": 2,
   "metadata": {},
   "outputs": [],
   "source": [
    "nps = pd.read_csv(\"nps.csv\")"
   ]
  },
  {
   "cell_type": "code",
   "execution_count": 3,
   "metadata": {},
   "outputs": [
    {
     "data": {
      "text/html": [
       "<div>\n",
       "<style scoped>\n",
       "    .dataframe tbody tr th:only-of-type {\n",
       "        vertical-align: middle;\n",
       "    }\n",
       "\n",
       "    .dataframe tbody tr th {\n",
       "        vertical-align: top;\n",
       "    }\n",
       "\n",
       "    .dataframe thead th {\n",
       "        text-align: right;\n",
       "    }\n",
       "</style>\n",
       "<table border=\"1\" class=\"dataframe\">\n",
       "  <thead>\n",
       "    <tr style=\"text-align: right;\">\n",
       "      <th></th>\n",
       "      <th>event_date</th>\n",
       "      <th>user_id</th>\n",
       "      <th>score</th>\n",
       "    </tr>\n",
       "  </thead>\n",
       "  <tbody>\n",
       "    <tr>\n",
       "      <th>0</th>\n",
       "      <td>2020-01-01 19:00:51</td>\n",
       "      <td>290067447</td>\n",
       "      <td>8</td>\n",
       "    </tr>\n",
       "    <tr>\n",
       "      <th>1</th>\n",
       "      <td>2020-01-02 17:34:43</td>\n",
       "      <td>223014806</td>\n",
       "      <td>10</td>\n",
       "    </tr>\n",
       "    <tr>\n",
       "      <th>2</th>\n",
       "      <td>2020-01-02 19:11:55</td>\n",
       "      <td>187864388</td>\n",
       "      <td>10</td>\n",
       "    </tr>\n",
       "    <tr>\n",
       "      <th>3</th>\n",
       "      <td>2020-01-02 19:27:00</td>\n",
       "      <td>318758952</td>\n",
       "      <td>8</td>\n",
       "    </tr>\n",
       "    <tr>\n",
       "      <th>4</th>\n",
       "      <td>2020-01-02 21:42:19</td>\n",
       "      <td>189933311</td>\n",
       "      <td>0</td>\n",
       "    </tr>\n",
       "  </tbody>\n",
       "</table>\n",
       "</div>"
      ],
      "text/plain": [
       "            event_date    user_id  score\n",
       "0  2020-01-01 19:00:51  290067447      8\n",
       "1  2020-01-02 17:34:43  223014806     10\n",
       "2  2020-01-02 19:11:55  187864388     10\n",
       "3  2020-01-02 19:27:00  318758952      8\n",
       "4  2020-01-02 21:42:19  189933311      0"
      ]
     },
     "execution_count": 3,
     "metadata": {},
     "output_type": "execute_result"
    }
   ],
   "source": [
    "nps.head()"
   ]
  },
  {
   "cell_type": "code",
   "execution_count": 4,
   "metadata": {},
   "outputs": [
    {
     "data": {
      "text/html": [
       "<div>\n",
       "<style scoped>\n",
       "    .dataframe tbody tr th:only-of-type {\n",
       "        vertical-align: middle;\n",
       "    }\n",
       "\n",
       "    .dataframe tbody tr th {\n",
       "        vertical-align: top;\n",
       "    }\n",
       "\n",
       "    .dataframe thead th {\n",
       "        text-align: right;\n",
       "    }\n",
       "</style>\n",
       "<table border=\"1\" class=\"dataframe\">\n",
       "  <thead>\n",
       "    <tr style=\"text-align: right;\">\n",
       "      <th></th>\n",
       "      <th>event_date</th>\n",
       "      <th>user_id</th>\n",
       "      <th>score</th>\n",
       "    </tr>\n",
       "  </thead>\n",
       "  <tbody>\n",
       "    <tr>\n",
       "      <th>3321</th>\n",
       "      <td>2020-12-30 21:24:28</td>\n",
       "      <td>289219785</td>\n",
       "      <td>8</td>\n",
       "    </tr>\n",
       "    <tr>\n",
       "      <th>3322</th>\n",
       "      <td>2020-12-31 02:01:19</td>\n",
       "      <td>187133285</td>\n",
       "      <td>7</td>\n",
       "    </tr>\n",
       "    <tr>\n",
       "      <th>3323</th>\n",
       "      <td>2020-12-31 05:30:00</td>\n",
       "      <td>202035502</td>\n",
       "      <td>10</td>\n",
       "    </tr>\n",
       "    <tr>\n",
       "      <th>3324</th>\n",
       "      <td>2020-12-31 06:12:32</td>\n",
       "      <td>196225609</td>\n",
       "      <td>10</td>\n",
       "    </tr>\n",
       "    <tr>\n",
       "      <th>3325</th>\n",
       "      <td>2020-12-31 22:09:29</td>\n",
       "      <td>289216565</td>\n",
       "      <td>8</td>\n",
       "    </tr>\n",
       "  </tbody>\n",
       "</table>\n",
       "</div>"
      ],
      "text/plain": [
       "               event_date    user_id  score\n",
       "3321  2020-12-30 21:24:28  289219785      8\n",
       "3322  2020-12-31 02:01:19  187133285      7\n",
       "3323  2020-12-31 05:30:00  202035502     10\n",
       "3324  2020-12-31 06:12:32  196225609     10\n",
       "3325  2020-12-31 22:09:29  289216565      8"
      ]
     },
     "execution_count": 4,
     "metadata": {},
     "output_type": "execute_result"
    }
   ],
   "source": [
    "nps.tail()"
   ]
  },
  {
   "cell_type": "code",
   "execution_count": 5,
   "metadata": {},
   "outputs": [
    {
     "name": "stdout",
     "output_type": "stream",
     "text": [
      "<class 'pandas.core.frame.DataFrame'>\n",
      "RangeIndex: 3326 entries, 0 to 3325\n",
      "Data columns (total 3 columns):\n",
      " #   Column      Non-Null Count  Dtype \n",
      "---  ------      --------------  ----- \n",
      " 0   event_date  3326 non-null   object\n",
      " 1   user_id     3326 non-null   int64 \n",
      " 2   score       3326 non-null   int64 \n",
      "dtypes: int64(2), object(1)\n",
      "memory usage: 78.1+ KB\n"
     ]
    }
   ],
   "source": [
    "nps.info()"
   ]
  },
  {
   "cell_type": "code",
   "execution_count": 6,
   "metadata": {},
   "outputs": [],
   "source": [
    "nps[\"event_date\"] = pd.to_datetime(nps[\"event_date\"])"
   ]
  },
  {
   "cell_type": "code",
   "execution_count": 7,
   "metadata": {},
   "outputs": [
    {
     "name": "stdout",
     "output_type": "stream",
     "text": [
      "<class 'pandas.core.frame.DataFrame'>\n",
      "RangeIndex: 3326 entries, 0 to 3325\n",
      "Data columns (total 3 columns):\n",
      " #   Column      Non-Null Count  Dtype         \n",
      "---  ------      --------------  -----         \n",
      " 0   event_date  3326 non-null   datetime64[ns]\n",
      " 1   user_id     3326 non-null   int64         \n",
      " 2   score       3326 non-null   int64         \n",
      "dtypes: datetime64[ns](1), int64(2)\n",
      "memory usage: 78.1 KB\n"
     ]
    }
   ],
   "source": [
    "nps.info()"
   ]
  },
  {
   "cell_type": "markdown",
   "metadata": {},
   "source": [
    "1. Detractors\n",
    "2. Passives\n",
    "3. Promoters"
   ]
  },
  {
   "cell_type": "markdown",
   "metadata": {},
   "source": [
    "nps = Promoters% - Detractors%"
   ]
  },
  {
   "cell_type": "code",
   "execution_count": 8,
   "metadata": {},
   "outputs": [],
   "source": [
    "# # 202001                     # net promotors score = nps to check business health & performance.\n",
    "# # 202012\n",
    "\n",
    "# 202000+01\n",
    "# 202001                        # we will calculate nps on monthly basis. "
   ]
  },
  {
   "cell_type": "code",
   "execution_count": 9,
   "metadata": {},
   "outputs": [
    {
     "data": {
      "text/plain": [
       "0       202001\n",
       "1       202001\n",
       "2       202001\n",
       "3       202001\n",
       "4       202001\n",
       "         ...  \n",
       "3321    202012\n",
       "3322    202012\n",
       "3323    202012\n",
       "3324    202012\n",
       "3325    202012\n",
       "Name: event_date, Length: 3326, dtype: int64"
      ]
     },
     "execution_count": 9,
     "metadata": {},
     "output_type": "execute_result"
    }
   ],
   "source": [
    "year = nps[\"event_date\"].dt.year       \n",
    "month = nps[\"event_date\"].dt.month     \n",
    "yearmonth = year*100+month\n",
    "yearmonth"
   ]
  },
  {
   "cell_type": "code",
   "execution_count": 10,
   "metadata": {},
   "outputs": [],
   "source": [
    "nps[\"yearmonth\"]  = yearmonth"
   ]
  },
  {
   "cell_type": "code",
   "execution_count": 11,
   "metadata": {},
   "outputs": [
    {
     "data": {
      "text/html": [
       "<div>\n",
       "<style scoped>\n",
       "    .dataframe tbody tr th:only-of-type {\n",
       "        vertical-align: middle;\n",
       "    }\n",
       "\n",
       "    .dataframe tbody tr th {\n",
       "        vertical-align: top;\n",
       "    }\n",
       "\n",
       "    .dataframe thead th {\n",
       "        text-align: right;\n",
       "    }\n",
       "</style>\n",
       "<table border=\"1\" class=\"dataframe\">\n",
       "  <thead>\n",
       "    <tr style=\"text-align: right;\">\n",
       "      <th></th>\n",
       "      <th>event_date</th>\n",
       "      <th>user_id</th>\n",
       "      <th>score</th>\n",
       "      <th>yearmonth</th>\n",
       "    </tr>\n",
       "  </thead>\n",
       "  <tbody>\n",
       "    <tr>\n",
       "      <th>328</th>\n",
       "      <td>2020-02-01 07:04:22</td>\n",
       "      <td>342243623</td>\n",
       "      <td>10</td>\n",
       "      <td>202002</td>\n",
       "    </tr>\n",
       "    <tr>\n",
       "      <th>329</th>\n",
       "      <td>2020-02-01 09:31:07</td>\n",
       "      <td>341959012</td>\n",
       "      <td>9</td>\n",
       "      <td>202002</td>\n",
       "    </tr>\n",
       "    <tr>\n",
       "      <th>330</th>\n",
       "      <td>2020-02-01 12:58:34</td>\n",
       "      <td>196674217</td>\n",
       "      <td>8</td>\n",
       "      <td>202002</td>\n",
       "    </tr>\n",
       "    <tr>\n",
       "      <th>331</th>\n",
       "      <td>2020-02-01 13:11:20</td>\n",
       "      <td>196675082</td>\n",
       "      <td>5</td>\n",
       "      <td>202002</td>\n",
       "    </tr>\n",
       "    <tr>\n",
       "      <th>332</th>\n",
       "      <td>2020-02-01 14:08:51</td>\n",
       "      <td>342243610</td>\n",
       "      <td>10</td>\n",
       "      <td>202002</td>\n",
       "    </tr>\n",
       "    <tr>\n",
       "      <th>...</th>\n",
       "      <td>...</td>\n",
       "      <td>...</td>\n",
       "      <td>...</td>\n",
       "      <td>...</td>\n",
       "    </tr>\n",
       "    <tr>\n",
       "      <th>596</th>\n",
       "      <td>2020-02-27 16:52:27</td>\n",
       "      <td>262862599</td>\n",
       "      <td>10</td>\n",
       "      <td>202002</td>\n",
       "    </tr>\n",
       "    <tr>\n",
       "      <th>597</th>\n",
       "      <td>2020-02-28 04:11:40</td>\n",
       "      <td>289215825</td>\n",
       "      <td>8</td>\n",
       "      <td>202002</td>\n",
       "    </tr>\n",
       "    <tr>\n",
       "      <th>598</th>\n",
       "      <td>2020-02-28 11:17:16</td>\n",
       "      <td>207004690</td>\n",
       "      <td>8</td>\n",
       "      <td>202002</td>\n",
       "    </tr>\n",
       "    <tr>\n",
       "      <th>599</th>\n",
       "      <td>2020-02-28 12:09:03</td>\n",
       "      <td>354261576</td>\n",
       "      <td>7</td>\n",
       "      <td>202002</td>\n",
       "    </tr>\n",
       "    <tr>\n",
       "      <th>600</th>\n",
       "      <td>2020-02-28 16:49:52</td>\n",
       "      <td>206648437</td>\n",
       "      <td>10</td>\n",
       "      <td>202002</td>\n",
       "    </tr>\n",
       "  </tbody>\n",
       "</table>\n",
       "<p>273 rows × 4 columns</p>\n",
       "</div>"
      ],
      "text/plain": [
       "             event_date    user_id  score  yearmonth\n",
       "328 2020-02-01 07:04:22  342243623     10     202002\n",
       "329 2020-02-01 09:31:07  341959012      9     202002\n",
       "330 2020-02-01 12:58:34  196674217      8     202002\n",
       "331 2020-02-01 13:11:20  196675082      5     202002\n",
       "332 2020-02-01 14:08:51  342243610     10     202002\n",
       "..                  ...        ...    ...        ...\n",
       "596 2020-02-27 16:52:27  262862599     10     202002\n",
       "597 2020-02-28 04:11:40  289215825      8     202002\n",
       "598 2020-02-28 11:17:16  207004690      8     202002\n",
       "599 2020-02-28 12:09:03  354261576      7     202002\n",
       "600 2020-02-28 16:49:52  206648437     10     202002\n",
       "\n",
       "[273 rows x 4 columns]"
      ]
     },
     "execution_count": 11,
     "metadata": {},
     "output_type": "execute_result"
    }
   ],
   "source": [
    "nps[nps[\"yearmonth\"]==202002]"
   ]
  },
  {
   "cell_type": "code",
   "execution_count": 12,
   "metadata": {},
   "outputs": [],
   "source": [
    "# D -> 0-6\n",
    "# Pa -> 7-8\n",
    "# pr -> 9-10"
   ]
  },
  {
   "cell_type": "code",
   "execution_count": 13,
   "metadata": {},
   "outputs": [
    {
     "data": {
      "text/plain": [
       "array([ 8, 10,  0,  6,  7,  9,  5,  2,  4,  3,  1], dtype=int64)"
      ]
     },
     "execution_count": 13,
     "metadata": {},
     "output_type": "execute_result"
    }
   ],
   "source": [
    "nps.score.unique()"
   ]
  },
  {
   "cell_type": "code",
   "execution_count": 14,
   "metadata": {},
   "outputs": [],
   "source": [
    "def cat(score):\n",
    "    if score in range(0,7): # [0,1,2,3,4,5,6]\n",
    "        return \"Detractor\"\n",
    "    elif score in [7,8]:\n",
    "        return \"Passive\"\n",
    "    else:\n",
    "        return \"Promoters\""
   ]
  },
  {
   "cell_type": "code",
   "execution_count": 15,
   "metadata": {},
   "outputs": [
    {
     "data": {
      "text/plain": [
       "0         Passive\n",
       "1       Promoters\n",
       "2       Promoters\n",
       "3         Passive\n",
       "4       Detractor\n",
       "          ...    \n",
       "3321      Passive\n",
       "3322      Passive\n",
       "3323    Promoters\n",
       "3324    Promoters\n",
       "3325      Passive\n",
       "Name: score, Length: 3326, dtype: object"
      ]
     },
     "execution_count": 15,
     "metadata": {},
     "output_type": "execute_result"
    }
   ],
   "source": [
    "nps[\"score\"].apply(cat) #applying on score col. "
   ]
  },
  {
   "cell_type": "code",
   "execution_count": 16,
   "metadata": {},
   "outputs": [],
   "source": [
    "nps[\"category\"] = nps[\"score\"].apply(cat)"
   ]
  },
  {
   "cell_type": "code",
   "execution_count": 17,
   "metadata": {},
   "outputs": [
    {
     "data": {
      "text/html": [
       "<div>\n",
       "<style scoped>\n",
       "    .dataframe tbody tr th:only-of-type {\n",
       "        vertical-align: middle;\n",
       "    }\n",
       "\n",
       "    .dataframe tbody tr th {\n",
       "        vertical-align: top;\n",
       "    }\n",
       "\n",
       "    .dataframe thead th {\n",
       "        text-align: right;\n",
       "    }\n",
       "</style>\n",
       "<table border=\"1\" class=\"dataframe\">\n",
       "  <thead>\n",
       "    <tr style=\"text-align: right;\">\n",
       "      <th></th>\n",
       "      <th>score</th>\n",
       "      <th>category</th>\n",
       "    </tr>\n",
       "  </thead>\n",
       "  <tbody>\n",
       "    <tr>\n",
       "      <th>0</th>\n",
       "      <td>8</td>\n",
       "      <td>Passive</td>\n",
       "    </tr>\n",
       "    <tr>\n",
       "      <th>1</th>\n",
       "      <td>10</td>\n",
       "      <td>Promoters</td>\n",
       "    </tr>\n",
       "    <tr>\n",
       "      <th>2</th>\n",
       "      <td>10</td>\n",
       "      <td>Promoters</td>\n",
       "    </tr>\n",
       "    <tr>\n",
       "      <th>3</th>\n",
       "      <td>8</td>\n",
       "      <td>Passive</td>\n",
       "    </tr>\n",
       "    <tr>\n",
       "      <th>4</th>\n",
       "      <td>0</td>\n",
       "      <td>Detractor</td>\n",
       "    </tr>\n",
       "    <tr>\n",
       "      <th>5</th>\n",
       "      <td>10</td>\n",
       "      <td>Promoters</td>\n",
       "    </tr>\n",
       "    <tr>\n",
       "      <th>6</th>\n",
       "      <td>6</td>\n",
       "      <td>Detractor</td>\n",
       "    </tr>\n",
       "    <tr>\n",
       "      <th>7</th>\n",
       "      <td>7</td>\n",
       "      <td>Passive</td>\n",
       "    </tr>\n",
       "    <tr>\n",
       "      <th>8</th>\n",
       "      <td>7</td>\n",
       "      <td>Passive</td>\n",
       "    </tr>\n",
       "    <tr>\n",
       "      <th>9</th>\n",
       "      <td>9</td>\n",
       "      <td>Promoters</td>\n",
       "    </tr>\n",
       "  </tbody>\n",
       "</table>\n",
       "</div>"
      ],
      "text/plain": [
       "   score   category\n",
       "0      8    Passive\n",
       "1     10  Promoters\n",
       "2     10  Promoters\n",
       "3      8    Passive\n",
       "4      0  Detractor\n",
       "5     10  Promoters\n",
       "6      6  Detractor\n",
       "7      7    Passive\n",
       "8      7    Passive\n",
       "9      9  Promoters"
      ]
     },
     "execution_count": 17,
     "metadata": {},
     "output_type": "execute_result"
    }
   ],
   "source": [
    "nps[[\"score\", \"category\"]].head(10)"
   ]
  },
  {
   "cell_type": "code",
   "execution_count": 18,
   "metadata": {},
   "outputs": [
    {
     "data": {
      "text/html": [
       "<div>\n",
       "<style scoped>\n",
       "    .dataframe tbody tr th:only-of-type {\n",
       "        vertical-align: middle;\n",
       "    }\n",
       "\n",
       "    .dataframe tbody tr th {\n",
       "        vertical-align: top;\n",
       "    }\n",
       "\n",
       "    .dataframe thead th {\n",
       "        text-align: right;\n",
       "    }\n",
       "</style>\n",
       "<table border=\"1\" class=\"dataframe\">\n",
       "  <thead>\n",
       "    <tr style=\"text-align: right;\">\n",
       "      <th></th>\n",
       "      <th>event_date</th>\n",
       "      <th>user_id</th>\n",
       "      <th>score</th>\n",
       "      <th>yearmonth</th>\n",
       "      <th>category</th>\n",
       "    </tr>\n",
       "  </thead>\n",
       "  <tbody>\n",
       "    <tr>\n",
       "      <th>0</th>\n",
       "      <td>2020-01-01 19:00:51</td>\n",
       "      <td>290067447</td>\n",
       "      <td>8</td>\n",
       "      <td>202001</td>\n",
       "      <td>Passive</td>\n",
       "    </tr>\n",
       "    <tr>\n",
       "      <th>1</th>\n",
       "      <td>2020-01-02 17:34:43</td>\n",
       "      <td>223014806</td>\n",
       "      <td>10</td>\n",
       "      <td>202001</td>\n",
       "      <td>Promoters</td>\n",
       "    </tr>\n",
       "    <tr>\n",
       "      <th>2</th>\n",
       "      <td>2020-01-02 19:11:55</td>\n",
       "      <td>187864388</td>\n",
       "      <td>10</td>\n",
       "      <td>202001</td>\n",
       "      <td>Promoters</td>\n",
       "    </tr>\n",
       "    <tr>\n",
       "      <th>3</th>\n",
       "      <td>2020-01-02 19:27:00</td>\n",
       "      <td>318758952</td>\n",
       "      <td>8</td>\n",
       "      <td>202001</td>\n",
       "      <td>Passive</td>\n",
       "    </tr>\n",
       "    <tr>\n",
       "      <th>4</th>\n",
       "      <td>2020-01-02 21:42:19</td>\n",
       "      <td>189933311</td>\n",
       "      <td>0</td>\n",
       "      <td>202001</td>\n",
       "      <td>Detractor</td>\n",
       "    </tr>\n",
       "  </tbody>\n",
       "</table>\n",
       "</div>"
      ],
      "text/plain": [
       "           event_date    user_id  score  yearmonth   category\n",
       "0 2020-01-01 19:00:51  290067447      8     202001    Passive\n",
       "1 2020-01-02 17:34:43  223014806     10     202001  Promoters\n",
       "2 2020-01-02 19:11:55  187864388     10     202001  Promoters\n",
       "3 2020-01-02 19:27:00  318758952      8     202001    Passive\n",
       "4 2020-01-02 21:42:19  189933311      0     202001  Detractor"
      ]
     },
     "execution_count": 18,
     "metadata": {},
     "output_type": "execute_result"
    }
   ],
   "source": [
    "nps.head()"
   ]
  },
  {
   "cell_type": "code",
   "execution_count": 19,
   "metadata": {},
   "outputs": [],
   "source": [
    "# 328  \n",
    "\n",
    "# 100   70  158"
   ]
  },
  {
   "cell_type": "code",
   "execution_count": 20,
   "metadata": {},
   "outputs": [],
   "source": [
    "# 328-170"
   ]
  },
  {
   "cell_type": "code",
   "execution_count": 21,
   "metadata": {},
   "outputs": [],
   "source": [
    "# (158-100)/328\n",
    "\n",
    "# 158/328-100/328"
   ]
  },
  {
   "cell_type": "code",
   "execution_count": 22,
   "metadata": {},
   "outputs": [
    {
     "data": {
      "text/plain": [
       "82"
      ]
     },
     "execution_count": 22,
     "metadata": {},
     "output_type": "execute_result"
    }
   ],
   "source": [
    "nps.groupby([\"yearmonth\",\"category\"]).size().loc[(202001,\"Passive\")]"
   ]
  },
  {
   "cell_type": "code",
   "execution_count": 23,
   "metadata": {},
   "outputs": [],
   "source": [
    "# nps.loc[(row_label1,row_label2),column_label]"
   ]
  },
  {
   "cell_type": "code",
   "execution_count": 24,
   "metadata": {},
   "outputs": [
    {
     "data": {
      "text/plain": [
       "yearmonth  category \n",
       "202001     Detractor     31\n",
       "           Passive       82\n",
       "           Promoters    215\n",
       "202002     Detractor     22\n",
       "           Passive       90\n",
       "           Promoters    161\n",
       "202003     Detractor     33\n",
       "           Passive       72\n",
       "           Promoters    125\n",
       "202004     Detractor     36\n",
       "           Passive       87\n",
       "           Promoters    178\n",
       "202005     Detractor     33\n",
       "           Passive       83\n",
       "           Promoters    191\n",
       "202006     Detractor     32\n",
       "           Passive       80\n",
       "           Promoters    215\n",
       "202007     Detractor     48\n",
       "           Passive       95\n",
       "           Promoters    258\n",
       "202008     Detractor     40\n",
       "           Passive      103\n",
       "           Promoters    256\n",
       "202009     Detractor     18\n",
       "           Passive       68\n",
       "           Promoters    135\n",
       "202010     Detractor     36\n",
       "           Passive       83\n",
       "           Promoters    177\n",
       "202011     Detractor     18\n",
       "           Passive       27\n",
       "           Promoters     72\n",
       "202012     Detractor     22\n",
       "           Passive       42\n",
       "           Promoters     62\n",
       "dtype: int64"
      ]
     },
     "execution_count": 24,
     "metadata": {},
     "output_type": "execute_result"
    }
   ],
   "source": [
    "nps.groupby([\"yearmonth\",\"category\"]).size()  # or see below pivot_table"
   ]
  },
  {
   "cell_type": "code",
   "execution_count": 25,
   "metadata": {},
   "outputs": [],
   "source": [
    "# yearmonth  Detractor  passive  Pro\n",
    "# 202001       31         50     120"
   ]
  },
  {
   "cell_type": "code",
   "execution_count": 26,
   "metadata": {},
   "outputs": [],
   "source": [
    "df_nps = nps.pivot_table(index = \"yearmonth\", columns = \"category\", aggfunc = \"size\") #better"
   ]
  },
  {
   "cell_type": "code",
   "execution_count": 27,
   "metadata": {},
   "outputs": [
    {
     "data": {
      "text/html": [
       "<div>\n",
       "<style scoped>\n",
       "    .dataframe tbody tr th:only-of-type {\n",
       "        vertical-align: middle;\n",
       "    }\n",
       "\n",
       "    .dataframe tbody tr th {\n",
       "        vertical-align: top;\n",
       "    }\n",
       "\n",
       "    .dataframe thead th {\n",
       "        text-align: right;\n",
       "    }\n",
       "</style>\n",
       "<table border=\"1\" class=\"dataframe\">\n",
       "  <thead>\n",
       "    <tr style=\"text-align: right;\">\n",
       "      <th>category</th>\n",
       "      <th>Detractor</th>\n",
       "      <th>Passive</th>\n",
       "      <th>Promoters</th>\n",
       "    </tr>\n",
       "    <tr>\n",
       "      <th>yearmonth</th>\n",
       "      <th></th>\n",
       "      <th></th>\n",
       "      <th></th>\n",
       "    </tr>\n",
       "  </thead>\n",
       "  <tbody>\n",
       "    <tr>\n",
       "      <th>202001</th>\n",
       "      <td>31</td>\n",
       "      <td>82</td>\n",
       "      <td>215</td>\n",
       "    </tr>\n",
       "    <tr>\n",
       "      <th>202002</th>\n",
       "      <td>22</td>\n",
       "      <td>90</td>\n",
       "      <td>161</td>\n",
       "    </tr>\n",
       "    <tr>\n",
       "      <th>202003</th>\n",
       "      <td>33</td>\n",
       "      <td>72</td>\n",
       "      <td>125</td>\n",
       "    </tr>\n",
       "    <tr>\n",
       "      <th>202004</th>\n",
       "      <td>36</td>\n",
       "      <td>87</td>\n",
       "      <td>178</td>\n",
       "    </tr>\n",
       "    <tr>\n",
       "      <th>202005</th>\n",
       "      <td>33</td>\n",
       "      <td>83</td>\n",
       "      <td>191</td>\n",
       "    </tr>\n",
       "    <tr>\n",
       "      <th>202006</th>\n",
       "      <td>32</td>\n",
       "      <td>80</td>\n",
       "      <td>215</td>\n",
       "    </tr>\n",
       "    <tr>\n",
       "      <th>202007</th>\n",
       "      <td>48</td>\n",
       "      <td>95</td>\n",
       "      <td>258</td>\n",
       "    </tr>\n",
       "    <tr>\n",
       "      <th>202008</th>\n",
       "      <td>40</td>\n",
       "      <td>103</td>\n",
       "      <td>256</td>\n",
       "    </tr>\n",
       "    <tr>\n",
       "      <th>202009</th>\n",
       "      <td>18</td>\n",
       "      <td>68</td>\n",
       "      <td>135</td>\n",
       "    </tr>\n",
       "    <tr>\n",
       "      <th>202010</th>\n",
       "      <td>36</td>\n",
       "      <td>83</td>\n",
       "      <td>177</td>\n",
       "    </tr>\n",
       "    <tr>\n",
       "      <th>202011</th>\n",
       "      <td>18</td>\n",
       "      <td>27</td>\n",
       "      <td>72</td>\n",
       "    </tr>\n",
       "    <tr>\n",
       "      <th>202012</th>\n",
       "      <td>22</td>\n",
       "      <td>42</td>\n",
       "      <td>62</td>\n",
       "    </tr>\n",
       "  </tbody>\n",
       "</table>\n",
       "</div>"
      ],
      "text/plain": [
       "category   Detractor  Passive  Promoters\n",
       "yearmonth                               \n",
       "202001            31       82        215\n",
       "202002            22       90        161\n",
       "202003            33       72        125\n",
       "202004            36       87        178\n",
       "202005            33       83        191\n",
       "202006            32       80        215\n",
       "202007            48       95        258\n",
       "202008            40      103        256\n",
       "202009            18       68        135\n",
       "202010            36       83        177\n",
       "202011            18       27         72\n",
       "202012            22       42         62"
      ]
     },
     "execution_count": 27,
     "metadata": {},
     "output_type": "execute_result"
    }
   ],
   "source": [
    "df_nps"
   ]
  },
  {
   "cell_type": "code",
   "execution_count": 28,
   "metadata": {},
   "outputs": [
    {
     "data": {
      "text/plain": [
       "Index(['Detractor', 'Passive', 'Promoters'], dtype='object', name='category')"
      ]
     },
     "execution_count": 28,
     "metadata": {},
     "output_type": "execute_result"
    }
   ],
   "source": [
    "df_nps.columns"
   ]
  },
  {
   "cell_type": "code",
   "execution_count": 29,
   "metadata": {},
   "outputs": [],
   "source": [
    "df_nps[\"total\"] = df_nps.sum(axis = 1)"
   ]
  },
  {
   "cell_type": "code",
   "execution_count": 30,
   "metadata": {},
   "outputs": [
    {
     "data": {
      "text/html": [
       "<div>\n",
       "<style scoped>\n",
       "    .dataframe tbody tr th:only-of-type {\n",
       "        vertical-align: middle;\n",
       "    }\n",
       "\n",
       "    .dataframe tbody tr th {\n",
       "        vertical-align: top;\n",
       "    }\n",
       "\n",
       "    .dataframe thead th {\n",
       "        text-align: right;\n",
       "    }\n",
       "</style>\n",
       "<table border=\"1\" class=\"dataframe\">\n",
       "  <thead>\n",
       "    <tr style=\"text-align: right;\">\n",
       "      <th>category</th>\n",
       "      <th>Detractor</th>\n",
       "      <th>Passive</th>\n",
       "      <th>Promoters</th>\n",
       "      <th>total</th>\n",
       "    </tr>\n",
       "    <tr>\n",
       "      <th>yearmonth</th>\n",
       "      <th></th>\n",
       "      <th></th>\n",
       "      <th></th>\n",
       "      <th></th>\n",
       "    </tr>\n",
       "  </thead>\n",
       "  <tbody>\n",
       "    <tr>\n",
       "      <th>202001</th>\n",
       "      <td>31</td>\n",
       "      <td>82</td>\n",
       "      <td>215</td>\n",
       "      <td>328</td>\n",
       "    </tr>\n",
       "    <tr>\n",
       "      <th>202002</th>\n",
       "      <td>22</td>\n",
       "      <td>90</td>\n",
       "      <td>161</td>\n",
       "      <td>273</td>\n",
       "    </tr>\n",
       "    <tr>\n",
       "      <th>202003</th>\n",
       "      <td>33</td>\n",
       "      <td>72</td>\n",
       "      <td>125</td>\n",
       "      <td>230</td>\n",
       "    </tr>\n",
       "    <tr>\n",
       "      <th>202004</th>\n",
       "      <td>36</td>\n",
       "      <td>87</td>\n",
       "      <td>178</td>\n",
       "      <td>301</td>\n",
       "    </tr>\n",
       "    <tr>\n",
       "      <th>202005</th>\n",
       "      <td>33</td>\n",
       "      <td>83</td>\n",
       "      <td>191</td>\n",
       "      <td>307</td>\n",
       "    </tr>\n",
       "    <tr>\n",
       "      <th>202006</th>\n",
       "      <td>32</td>\n",
       "      <td>80</td>\n",
       "      <td>215</td>\n",
       "      <td>327</td>\n",
       "    </tr>\n",
       "    <tr>\n",
       "      <th>202007</th>\n",
       "      <td>48</td>\n",
       "      <td>95</td>\n",
       "      <td>258</td>\n",
       "      <td>401</td>\n",
       "    </tr>\n",
       "    <tr>\n",
       "      <th>202008</th>\n",
       "      <td>40</td>\n",
       "      <td>103</td>\n",
       "      <td>256</td>\n",
       "      <td>399</td>\n",
       "    </tr>\n",
       "    <tr>\n",
       "      <th>202009</th>\n",
       "      <td>18</td>\n",
       "      <td>68</td>\n",
       "      <td>135</td>\n",
       "      <td>221</td>\n",
       "    </tr>\n",
       "    <tr>\n",
       "      <th>202010</th>\n",
       "      <td>36</td>\n",
       "      <td>83</td>\n",
       "      <td>177</td>\n",
       "      <td>296</td>\n",
       "    </tr>\n",
       "    <tr>\n",
       "      <th>202011</th>\n",
       "      <td>18</td>\n",
       "      <td>27</td>\n",
       "      <td>72</td>\n",
       "      <td>117</td>\n",
       "    </tr>\n",
       "    <tr>\n",
       "      <th>202012</th>\n",
       "      <td>22</td>\n",
       "      <td>42</td>\n",
       "      <td>62</td>\n",
       "      <td>126</td>\n",
       "    </tr>\n",
       "  </tbody>\n",
       "</table>\n",
       "</div>"
      ],
      "text/plain": [
       "category   Detractor  Passive  Promoters  total\n",
       "yearmonth                                      \n",
       "202001            31       82        215    328\n",
       "202002            22       90        161    273\n",
       "202003            33       72        125    230\n",
       "202004            36       87        178    301\n",
       "202005            33       83        191    307\n",
       "202006            32       80        215    327\n",
       "202007            48       95        258    401\n",
       "202008            40      103        256    399\n",
       "202009            18       68        135    221\n",
       "202010            36       83        177    296\n",
       "202011            18       27         72    117\n",
       "202012            22       42         62    126"
      ]
     },
     "execution_count": 30,
     "metadata": {},
     "output_type": "execute_result"
    }
   ],
   "source": [
    "df_nps"
   ]
  },
  {
   "cell_type": "code",
   "execution_count": 31,
   "metadata": {},
   "outputs": [],
   "source": [
    "df_nps[\"nps\"] = (df_nps['Promoters'] - df_nps['Detractor'])*100/df_nps['total']"
   ]
  },
  {
   "cell_type": "code",
   "execution_count": 32,
   "metadata": {},
   "outputs": [
    {
     "data": {
      "text/html": [
       "<div>\n",
       "<style scoped>\n",
       "    .dataframe tbody tr th:only-of-type {\n",
       "        vertical-align: middle;\n",
       "    }\n",
       "\n",
       "    .dataframe tbody tr th {\n",
       "        vertical-align: top;\n",
       "    }\n",
       "\n",
       "    .dataframe thead th {\n",
       "        text-align: right;\n",
       "    }\n",
       "</style>\n",
       "<table border=\"1\" class=\"dataframe\">\n",
       "  <thead>\n",
       "    <tr style=\"text-align: right;\">\n",
       "      <th>category</th>\n",
       "      <th>Detractor</th>\n",
       "      <th>Passive</th>\n",
       "      <th>Promoters</th>\n",
       "      <th>total</th>\n",
       "      <th>nps</th>\n",
       "    </tr>\n",
       "    <tr>\n",
       "      <th>yearmonth</th>\n",
       "      <th></th>\n",
       "      <th></th>\n",
       "      <th></th>\n",
       "      <th></th>\n",
       "      <th></th>\n",
       "    </tr>\n",
       "  </thead>\n",
       "  <tbody>\n",
       "    <tr>\n",
       "      <th>202001</th>\n",
       "      <td>31</td>\n",
       "      <td>82</td>\n",
       "      <td>215</td>\n",
       "      <td>328</td>\n",
       "      <td>56.097561</td>\n",
       "    </tr>\n",
       "    <tr>\n",
       "      <th>202002</th>\n",
       "      <td>22</td>\n",
       "      <td>90</td>\n",
       "      <td>161</td>\n",
       "      <td>273</td>\n",
       "      <td>50.915751</td>\n",
       "    </tr>\n",
       "    <tr>\n",
       "      <th>202003</th>\n",
       "      <td>33</td>\n",
       "      <td>72</td>\n",
       "      <td>125</td>\n",
       "      <td>230</td>\n",
       "      <td>40.000000</td>\n",
       "    </tr>\n",
       "    <tr>\n",
       "      <th>202004</th>\n",
       "      <td>36</td>\n",
       "      <td>87</td>\n",
       "      <td>178</td>\n",
       "      <td>301</td>\n",
       "      <td>47.176080</td>\n",
       "    </tr>\n",
       "    <tr>\n",
       "      <th>202005</th>\n",
       "      <td>33</td>\n",
       "      <td>83</td>\n",
       "      <td>191</td>\n",
       "      <td>307</td>\n",
       "      <td>51.465798</td>\n",
       "    </tr>\n",
       "    <tr>\n",
       "      <th>202006</th>\n",
       "      <td>32</td>\n",
       "      <td>80</td>\n",
       "      <td>215</td>\n",
       "      <td>327</td>\n",
       "      <td>55.963303</td>\n",
       "    </tr>\n",
       "    <tr>\n",
       "      <th>202007</th>\n",
       "      <td>48</td>\n",
       "      <td>95</td>\n",
       "      <td>258</td>\n",
       "      <td>401</td>\n",
       "      <td>52.369077</td>\n",
       "    </tr>\n",
       "    <tr>\n",
       "      <th>202008</th>\n",
       "      <td>40</td>\n",
       "      <td>103</td>\n",
       "      <td>256</td>\n",
       "      <td>399</td>\n",
       "      <td>54.135338</td>\n",
       "    </tr>\n",
       "    <tr>\n",
       "      <th>202009</th>\n",
       "      <td>18</td>\n",
       "      <td>68</td>\n",
       "      <td>135</td>\n",
       "      <td>221</td>\n",
       "      <td>52.941176</td>\n",
       "    </tr>\n",
       "    <tr>\n",
       "      <th>202010</th>\n",
       "      <td>36</td>\n",
       "      <td>83</td>\n",
       "      <td>177</td>\n",
       "      <td>296</td>\n",
       "      <td>47.635135</td>\n",
       "    </tr>\n",
       "    <tr>\n",
       "      <th>202011</th>\n",
       "      <td>18</td>\n",
       "      <td>27</td>\n",
       "      <td>72</td>\n",
       "      <td>117</td>\n",
       "      <td>46.153846</td>\n",
       "    </tr>\n",
       "    <tr>\n",
       "      <th>202012</th>\n",
       "      <td>22</td>\n",
       "      <td>42</td>\n",
       "      <td>62</td>\n",
       "      <td>126</td>\n",
       "      <td>31.746032</td>\n",
       "    </tr>\n",
       "  </tbody>\n",
       "</table>\n",
       "</div>"
      ],
      "text/plain": [
       "category   Detractor  Passive  Promoters  total        nps\n",
       "yearmonth                                                 \n",
       "202001            31       82        215    328  56.097561\n",
       "202002            22       90        161    273  50.915751\n",
       "202003            33       72        125    230  40.000000\n",
       "202004            36       87        178    301  47.176080\n",
       "202005            33       83        191    307  51.465798\n",
       "202006            32       80        215    327  55.963303\n",
       "202007            48       95        258    401  52.369077\n",
       "202008            40      103        256    399  54.135338\n",
       "202009            18       68        135    221  52.941176\n",
       "202010            36       83        177    296  47.635135\n",
       "202011            18       27         72    117  46.153846\n",
       "202012            22       42         62    126  31.746032"
      ]
     },
     "execution_count": 32,
     "metadata": {},
     "output_type": "execute_result"
    }
   ],
   "source": [
    "df_nps                 # bar graph is category based. \n",
    "                       # line is "
   ]
  },
  {
   "cell_type": "code",
   "execution_count": 33,
   "metadata": {},
   "outputs": [
    {
     "data": {
      "image/png": "[encoded data removed]",
      "text/plain": [
       "<Figure size 864x432 with 1 Axes>"
      ]
     },
     "metadata": {
      "needs_background": "light"
     },
     "output_type": "display_data"
    }
   ],
   "source": [
    "ax = df_nps.reset_index().plot(x =\"yearmonth\" , y = \"nps\", kind = \"line\", \n",
    "                          title = \"Monthly NPS Comparision\", figsize = (12,6), legend = False, xticks =df_nps.index )\n",
    "\n",
    "plt.title(\"Monthly NPS Comparision\",y = 1.07)\n",
    "# plt.xticks(df_nps.index,df_nps.index)\n",
    "plt.xticks(df_nps.index)\n",
    "ax.set_xticklabels(df_nps.index)\n",
    "ax.axes.get_xaxis().set_label_text(\"\")# plt.xlabel(\"\")\n",
    "plt.show()"
   ]
  },
  {
   "cell_type": "markdown",
   "metadata": {},
   "source": [
    "---------------------------------------------------------------------------------------------------"
   ]
  },
  {
   "cell_type": "code",
   "execution_count": 34,
   "metadata": {},
   "outputs": [],
   "source": [
    "subs = pd.read_csv(\"muscle_labs.csv\", parse_dates = [\"end_date\",\"start_date\"])"
   ]
  },
  {
   "cell_type": "code",
   "execution_count": 35,
   "metadata": {},
   "outputs": [
    {
     "data": {
      "text/html": [
       "<div>\n",
       "<style scoped>\n",
       "    .dataframe tbody tr th:only-of-type {\n",
       "        vertical-align: middle;\n",
       "    }\n",
       "\n",
       "    .dataframe tbody tr th {\n",
       "        vertical-align: top;\n",
       "    }\n",
       "\n",
       "    .dataframe thead th {\n",
       "        text-align: right;\n",
       "    }\n",
       "</style>\n",
       "<table border=\"1\" class=\"dataframe\">\n",
       "  <thead>\n",
       "    <tr style=\"text-align: right;\">\n",
       "      <th></th>\n",
       "      <th>id</th>\n",
       "      <th>customer_id</th>\n",
       "      <th>end_date</th>\n",
       "      <th>start_date</th>\n",
       "      <th>subscription_period</th>\n",
       "      <th>price</th>\n",
       "    </tr>\n",
       "  </thead>\n",
       "  <tbody>\n",
       "    <tr>\n",
       "      <th>0</th>\n",
       "      <td>5</td>\n",
       "      <td>1337</td>\n",
       "      <td>2014-12-28 01:40:57</td>\n",
       "      <td>2014-10-25 12:39:18</td>\n",
       "      <td>monthly</td>\n",
       "      <td>50</td>\n",
       "    </tr>\n",
       "    <tr>\n",
       "      <th>1</th>\n",
       "      <td>28</td>\n",
       "      <td>1338</td>\n",
       "      <td>2014-11-19 01:48:05</td>\n",
       "      <td>2014-10-17 13:47:59</td>\n",
       "      <td>monthly</td>\n",
       "      <td>50</td>\n",
       "    </tr>\n",
       "    <tr>\n",
       "      <th>2</th>\n",
       "      <td>44</td>\n",
       "      <td>1339</td>\n",
       "      <td>2014-11-01 20:56:37</td>\n",
       "      <td>2014-10-30 05:50:54</td>\n",
       "      <td>annual</td>\n",
       "      <td>500</td>\n",
       "    </tr>\n",
       "    <tr>\n",
       "      <th>3</th>\n",
       "      <td>85</td>\n",
       "      <td>1340</td>\n",
       "      <td>2014-12-09 02:51:57</td>\n",
       "      <td>2013-12-05 14:51:57</td>\n",
       "      <td>annual</td>\n",
       "      <td>500</td>\n",
       "    </tr>\n",
       "    <tr>\n",
       "      <th>4</th>\n",
       "      <td>168</td>\n",
       "      <td>1341</td>\n",
       "      <td>2015-11-16 09:19:29</td>\n",
       "      <td>2014-11-13 20:19:23</td>\n",
       "      <td>annual</td>\n",
       "      <td>500</td>\n",
       "    </tr>\n",
       "  </tbody>\n",
       "</table>\n",
       "</div>"
      ],
      "text/plain": [
       "    id  customer_id            end_date          start_date  \\\n",
       "0    5         1337 2014-12-28 01:40:57 2014-10-25 12:39:18   \n",
       "1   28         1338 2014-11-19 01:48:05 2014-10-17 13:47:59   \n",
       "2   44         1339 2014-11-01 20:56:37 2014-10-30 05:50:54   \n",
       "3   85         1340 2014-12-09 02:51:57 2013-12-05 14:51:57   \n",
       "4  168         1341 2015-11-16 09:19:29 2014-11-13 20:19:23   \n",
       "\n",
       "  subscription_period  price  \n",
       "0             monthly     50  \n",
       "1             monthly     50  \n",
       "2              annual    500  \n",
       "3              annual    500  \n",
       "4              annual    500  "
      ]
     },
     "execution_count": 35,
     "metadata": {},
     "output_type": "execute_result"
    }
   ],
   "source": [
    "subs.head()"
   ]
  },
  {
   "cell_type": "code",
   "execution_count": 36,
   "metadata": {},
   "outputs": [
    {
     "name": "stdout",
     "output_type": "stream",
     "text": [
      "<class 'pandas.core.frame.DataFrame'>\n",
      "RangeIndex: 10497 entries, 0 to 10496\n",
      "Data columns (total 6 columns):\n",
      " #   Column               Non-Null Count  Dtype         \n",
      "---  ------               --------------  -----         \n",
      " 0   id                   10497 non-null  int64         \n",
      " 1   customer_id          10497 non-null  int64         \n",
      " 2   end_date             10497 non-null  datetime64[ns]\n",
      " 3   start_date           10497 non-null  datetime64[ns]\n",
      " 4   subscription_period  10497 non-null  object        \n",
      " 5   price                10497 non-null  int64         \n",
      "dtypes: datetime64[ns](2), int64(3), object(1)\n",
      "memory usage: 492.2+ KB\n"
     ]
    }
   ],
   "source": [
    "subs.info()"
   ]
  },
  {
   "cell_type": "markdown",
   "metadata": {},
   "source": [
    "we bought gym on 1 January 2013\n",
    "\n",
    "and now its early December,2014"
   ]
  },
  {
   "cell_type": "markdown",
   "metadata": {},
   "source": [
    "Churn rate = left/ (left+existing)"
   ]
  },
  {
   "cell_type": "code",
   "execution_count": 37,
   "metadata": {},
   "outputs": [
    {
     "data": {
      "text/plain": [
       "0.5357142857142857"
      ]
     },
     "execution_count": 37,
     "metadata": {},
     "output_type": "execute_result"
    }
   ],
   "source": [
    "15/(15+13)"
   ]
  },
  {
   "cell_type": "code",
   "execution_count": 38,
   "metadata": {},
   "outputs": [
    {
     "data": {
      "text/plain": [
       "0.075"
      ]
     },
     "execution_count": 38,
     "metadata": {},
     "output_type": "execute_result"
    }
   ],
   "source": [
    "3/40"
   ]
  },
  {
   "cell_type": "code",
   "execution_count": 39,
   "metadata": {},
   "outputs": [],
   "source": [
    "subs[\"churn_month\"] = subs[\"end_date\"].dt.year*100+ subs[\"end_date\"].dt.month"
   ]
  },
  {
   "cell_type": "code",
   "execution_count": 40,
   "metadata": {},
   "outputs": [
    {
     "data": {
      "text/html": [
       "<div>\n",
       "<style scoped>\n",
       "    .dataframe tbody tr th:only-of-type {\n",
       "        vertical-align: middle;\n",
       "    }\n",
       "\n",
       "    .dataframe tbody tr th {\n",
       "        vertical-align: top;\n",
       "    }\n",
       "\n",
       "    .dataframe thead th {\n",
       "        text-align: right;\n",
       "    }\n",
       "</style>\n",
       "<table border=\"1\" class=\"dataframe\">\n",
       "  <thead>\n",
       "    <tr style=\"text-align: right;\">\n",
       "      <th></th>\n",
       "      <th>id</th>\n",
       "      <th>customer_id</th>\n",
       "      <th>end_date</th>\n",
       "      <th>start_date</th>\n",
       "      <th>subscription_period</th>\n",
       "      <th>price</th>\n",
       "      <th>churn_month</th>\n",
       "    </tr>\n",
       "  </thead>\n",
       "  <tbody>\n",
       "    <tr>\n",
       "      <th>0</th>\n",
       "      <td>5</td>\n",
       "      <td>1337</td>\n",
       "      <td>2014-12-28 01:40:57</td>\n",
       "      <td>2014-10-25 12:39:18</td>\n",
       "      <td>monthly</td>\n",
       "      <td>50</td>\n",
       "      <td>201412</td>\n",
       "    </tr>\n",
       "    <tr>\n",
       "      <th>1</th>\n",
       "      <td>28</td>\n",
       "      <td>1338</td>\n",
       "      <td>2014-11-19 01:48:05</td>\n",
       "      <td>2014-10-17 13:47:59</td>\n",
       "      <td>monthly</td>\n",
       "      <td>50</td>\n",
       "      <td>201411</td>\n",
       "    </tr>\n",
       "    <tr>\n",
       "      <th>2</th>\n",
       "      <td>44</td>\n",
       "      <td>1339</td>\n",
       "      <td>2014-11-01 20:56:37</td>\n",
       "      <td>2014-10-30 05:50:54</td>\n",
       "      <td>annual</td>\n",
       "      <td>500</td>\n",
       "      <td>201411</td>\n",
       "    </tr>\n",
       "    <tr>\n",
       "      <th>3</th>\n",
       "      <td>85</td>\n",
       "      <td>1340</td>\n",
       "      <td>2014-12-09 02:51:57</td>\n",
       "      <td>2013-12-05 14:51:57</td>\n",
       "      <td>annual</td>\n",
       "      <td>500</td>\n",
       "      <td>201412</td>\n",
       "    </tr>\n",
       "    <tr>\n",
       "      <th>4</th>\n",
       "      <td>168</td>\n",
       "      <td>1341</td>\n",
       "      <td>2015-11-16 09:19:29</td>\n",
       "      <td>2014-11-13 20:19:23</td>\n",
       "      <td>annual</td>\n",
       "      <td>500</td>\n",
       "      <td>201511</td>\n",
       "    </tr>\n",
       "  </tbody>\n",
       "</table>\n",
       "</div>"
      ],
      "text/plain": [
       "    id  customer_id            end_date          start_date  \\\n",
       "0    5         1337 2014-12-28 01:40:57 2014-10-25 12:39:18   \n",
       "1   28         1338 2014-11-19 01:48:05 2014-10-17 13:47:59   \n",
       "2   44         1339 2014-11-01 20:56:37 2014-10-30 05:50:54   \n",
       "3   85         1340 2014-12-09 02:51:57 2013-12-05 14:51:57   \n",
       "4  168         1341 2015-11-16 09:19:29 2014-11-13 20:19:23   \n",
       "\n",
       "  subscription_period  price  churn_month  \n",
       "0             monthly     50       201412  \n",
       "1             monthly     50       201411  \n",
       "2              annual    500       201411  \n",
       "3              annual    500       201412  \n",
       "4              annual    500       201511  "
      ]
     },
     "execution_count": 40,
     "metadata": {},
     "output_type": "execute_result"
    }
   ],
   "source": [
    "subs.head()"
   ]
  },
  {
   "cell_type": "code",
   "execution_count": 41,
   "metadata": {
    "scrolled": true
   },
   "outputs": [],
   "source": [
    "churn = subs.groupby(\"churn_month\").size()"
   ]
  },
  {
   "cell_type": "code",
   "execution_count": 42,
   "metadata": {},
   "outputs": [
    {
     "data": {
      "text/plain": [
       "pandas.core.series.Series"
      ]
     },
     "execution_count": 42,
     "metadata": {},
     "output_type": "execute_result"
    }
   ],
   "source": [
    "type(churn)"
   ]
  },
  {
   "cell_type": "code",
   "execution_count": 43,
   "metadata": {},
   "outputs": [
    {
     "data": {
      "text/plain": [
       "churn_month\n",
       "201103       8\n",
       "201104      16\n",
       "201105      29\n",
       "201106      27\n",
       "201107      37\n",
       "201108      40\n",
       "201109      39\n",
       "201110      47\n",
       "201111      45\n",
       "201112     100\n",
       "201201      75\n",
       "201202      41\n",
       "201203      43\n",
       "201204      74\n",
       "201205      55\n",
       "201206      38\n",
       "201207      54\n",
       "201208      56\n",
       "201209      63\n",
       "201210      55\n",
       "201211      45\n",
       "201212      50\n",
       "201301      50\n",
       "201302      76\n",
       "201303      70\n",
       "201304      95\n",
       "201305      78\n",
       "201306      85\n",
       "201307      84\n",
       "201308      92\n",
       "201309      87\n",
       "201310      91\n",
       "201311      73\n",
       "201312      90\n",
       "201401     116\n",
       "201402      80\n",
       "201403      67\n",
       "201404      77\n",
       "201405     123\n",
       "201406     130\n",
       "201407      88\n",
       "201408     114\n",
       "201409     152\n",
       "201410     126\n",
       "201411     159\n",
       "201412    1052\n",
       "201501     840\n",
       "201502     576\n",
       "201503     319\n",
       "201504     579\n",
       "201505     384\n",
       "201506     553\n",
       "201507     280\n",
       "201508     545\n",
       "201509     504\n",
       "201510     650\n",
       "201511     495\n",
       "201512     480\n",
       "dtype: int64"
      ]
     },
     "execution_count": 43,
     "metadata": {},
     "output_type": "execute_result"
    }
   ],
   "source": [
    "churn"
   ]
  },
  {
   "cell_type": "code",
   "execution_count": 44,
   "metadata": {},
   "outputs": [
    {
     "data": {
      "text/html": [
       "<div>\n",
       "<style scoped>\n",
       "    .dataframe tbody tr th:only-of-type {\n",
       "        vertical-align: middle;\n",
       "    }\n",
       "\n",
       "    .dataframe tbody tr th {\n",
       "        vertical-align: top;\n",
       "    }\n",
       "\n",
       "    .dataframe thead th {\n",
       "        text-align: right;\n",
       "    }\n",
       "</style>\n",
       "<table border=\"1\" class=\"dataframe\">\n",
       "  <thead>\n",
       "    <tr style=\"text-align: right;\">\n",
       "      <th></th>\n",
       "      <th>Total_churned</th>\n",
       "    </tr>\n",
       "    <tr>\n",
       "      <th>churn_month</th>\n",
       "      <th></th>\n",
       "    </tr>\n",
       "  </thead>\n",
       "  <tbody>\n",
       "    <tr>\n",
       "      <th>201103</th>\n",
       "      <td>8</td>\n",
       "    </tr>\n",
       "    <tr>\n",
       "      <th>201104</th>\n",
       "      <td>16</td>\n",
       "    </tr>\n",
       "    <tr>\n",
       "      <th>201105</th>\n",
       "      <td>29</td>\n",
       "    </tr>\n",
       "    <tr>\n",
       "      <th>201106</th>\n",
       "      <td>27</td>\n",
       "    </tr>\n",
       "    <tr>\n",
       "      <th>201107</th>\n",
       "      <td>37</td>\n",
       "    </tr>\n",
       "  </tbody>\n",
       "</table>\n",
       "</div>"
      ],
      "text/plain": [
       "             Total_churned\n",
       "churn_month               \n",
       "201103                   8\n",
       "201104                  16\n",
       "201105                  29\n",
       "201106                  27\n",
       "201107                  37"
      ]
     },
     "execution_count": 44,
     "metadata": {},
     "output_type": "execute_result"
    }
   ],
   "source": [
    "churned = pd.DataFrame(churn, columns = [\"Total_churned\"])\n",
    "churned.head()"
   ]
  },
  {
   "cell_type": "code",
   "execution_count": 45,
   "metadata": {},
   "outputs": [
    {
     "data": {
      "text/plain": [
       "[201101, 402513]"
      ]
     },
     "execution_count": 45,
     "metadata": {},
     "output_type": "execute_result"
    }
   ],
   "source": [
    "[201101,201102----------------------------------------------------------201411]"
   ]
  },
  {
   "cell_type": "code",
   "execution_count": 46,
   "metadata": {},
   "outputs": [
    {
     "data": {
      "text/plain": [
       "[1, 2, 3, 4, 5, 6, 7, 8, 9, 10, 11, 12]"
      ]
     },
     "execution_count": 46,
     "metadata": {},
     "output_type": "execute_result"
    }
   ],
   "source": [
    "years = list(range(2011,2015))\n",
    "months = list(range(1,13))\n",
    "months"
   ]
  },
  {
   "cell_type": "code",
   "execution_count": 47,
   "metadata": {},
   "outputs": [],
   "source": [
    "yearmonths = []\n",
    "\n",
    "for y in years:\n",
    "    for m in months:\n",
    "        yearm = y*100+m\n",
    "        yearmonths.append(yearm)\n",
    "    "
   ]
  },
  {
   "cell_type": "code",
   "execution_count": 48,
   "metadata": {},
   "outputs": [
    {
     "name": "stdout",
     "output_type": "stream",
     "text": [
      "[201101, 201102, 201103, 201104, 201105, 201106, 201107, 201108, 201109, 201110, 201111, 201112, 201201, 201202, 201203, 201204, 201205, 201206, 201207, 201208, 201209, 201210, 201211, 201212, 201301, 201302, 201303, 201304, 201305, 201306, 201307, 201308, 201309, 201310, 201311, 201312, 201401, 201402, 201403, 201404, 201405, 201406, 201407, 201408, 201409, 201410, 201411, 201412]\n"
     ]
    }
   ],
   "source": [
    "print(yearmonths)"
   ]
  },
  {
   "cell_type": "code",
   "execution_count": 49,
   "metadata": {},
   "outputs": [],
   "source": [
    "yearmonths = yearmonths[:-1]"
   ]
  },
  {
   "cell_type": "code",
   "execution_count": 50,
   "metadata": {},
   "outputs": [
    {
     "name": "stdout",
     "output_type": "stream",
     "text": [
      "[201101, 201102, 201103, 201104, 201105, 201106, 201107, 201108, 201109, 201110, 201111, 201112, 201201, 201202, 201203, 201204, 201205, 201206, 201207, 201208, 201209, 201210, 201211, 201212, 201301, 201302, 201303, 201304, 201305, 201306, 201307, 201308, 201309, 201310, 201311, 201312, 201401, 201402, 201403, 201404, 201405, 201406, 201407, 201408, 201409, 201410, 201411]\n"
     ]
    }
   ],
   "source": [
    "print(yearmonths)"
   ]
  },
  {
   "cell_type": "code",
   "execution_count": 51,
   "metadata": {},
   "outputs": [
    {
     "data": {
      "text/html": [
       "<div>\n",
       "<style scoped>\n",
       "    .dataframe tbody tr th:only-of-type {\n",
       "        vertical-align: middle;\n",
       "    }\n",
       "\n",
       "    .dataframe tbody tr th {\n",
       "        vertical-align: top;\n",
       "    }\n",
       "\n",
       "    .dataframe thead th {\n",
       "        text-align: right;\n",
       "    }\n",
       "</style>\n",
       "<table border=\"1\" class=\"dataframe\">\n",
       "  <thead>\n",
       "    <tr style=\"text-align: right;\">\n",
       "      <th></th>\n",
       "      <th>yearmonths</th>\n",
       "    </tr>\n",
       "  </thead>\n",
       "  <tbody>\n",
       "    <tr>\n",
       "      <th>0</th>\n",
       "      <td>201101</td>\n",
       "    </tr>\n",
       "    <tr>\n",
       "      <th>1</th>\n",
       "      <td>201102</td>\n",
       "    </tr>\n",
       "    <tr>\n",
       "      <th>2</th>\n",
       "      <td>201103</td>\n",
       "    </tr>\n",
       "    <tr>\n",
       "      <th>3</th>\n",
       "      <td>201104</td>\n",
       "    </tr>\n",
       "    <tr>\n",
       "      <th>4</th>\n",
       "      <td>201105</td>\n",
       "    </tr>\n",
       "  </tbody>\n",
       "</table>\n",
       "</div>"
      ],
      "text/plain": [
       "   yearmonths\n",
       "0      201101\n",
       "1      201102\n",
       "2      201103\n",
       "3      201104\n",
       "4      201105"
      ]
     },
     "execution_count": 51,
     "metadata": {},
     "output_type": "execute_result"
    }
   ],
   "source": [
    "x = pd.DataFrame({\"yearmonths\":yearmonths})\n",
    "x.head()"
   ]
  },
  {
   "cell_type": "code",
   "execution_count": 52,
   "metadata": {},
   "outputs": [
    {
     "data": {
      "text/html": [
       "<div>\n",
       "<style scoped>\n",
       "    .dataframe tbody tr th:only-of-type {\n",
       "        vertical-align: middle;\n",
       "    }\n",
       "\n",
       "    .dataframe tbody tr th {\n",
       "        vertical-align: top;\n",
       "    }\n",
       "\n",
       "    .dataframe thead th {\n",
       "        text-align: right;\n",
       "    }\n",
       "</style>\n",
       "<table border=\"1\" class=\"dataframe\">\n",
       "  <thead>\n",
       "    <tr style=\"text-align: right;\">\n",
       "      <th></th>\n",
       "      <th>Total_churned</th>\n",
       "    </tr>\n",
       "    <tr>\n",
       "      <th>churn_month</th>\n",
       "      <th></th>\n",
       "    </tr>\n",
       "  </thead>\n",
       "  <tbody>\n",
       "    <tr>\n",
       "      <th>201103</th>\n",
       "      <td>8</td>\n",
       "    </tr>\n",
       "    <tr>\n",
       "      <th>201104</th>\n",
       "      <td>16</td>\n",
       "    </tr>\n",
       "    <tr>\n",
       "      <th>201105</th>\n",
       "      <td>29</td>\n",
       "    </tr>\n",
       "    <tr>\n",
       "      <th>201106</th>\n",
       "      <td>27</td>\n",
       "    </tr>\n",
       "    <tr>\n",
       "      <th>201107</th>\n",
       "      <td>37</td>\n",
       "    </tr>\n",
       "  </tbody>\n",
       "</table>\n",
       "</div>"
      ],
      "text/plain": [
       "             Total_churned\n",
       "churn_month               \n",
       "201103                   8\n",
       "201104                  16\n",
       "201105                  29\n",
       "201106                  27\n",
       "201107                  37"
      ]
     },
     "execution_count": 52,
     "metadata": {},
     "output_type": "execute_result"
    }
   ],
   "source": [
    "churned.head()"
   ]
  },
  {
   "cell_type": "code",
   "execution_count": 53,
   "metadata": {},
   "outputs": [],
   "source": [
    "df = pd.merge(left = x,right = churned, how = \"left\" , left_on = \"yearmonths\", right_index= True) # on = \"yearmonths\""
   ]
  },
  {
   "cell_type": "code",
   "execution_count": 54,
   "metadata": {},
   "outputs": [
    {
     "data": {
      "text/html": [
       "<div>\n",
       "<style scoped>\n",
       "    .dataframe tbody tr th:only-of-type {\n",
       "        vertical-align: middle;\n",
       "    }\n",
       "\n",
       "    .dataframe tbody tr th {\n",
       "        vertical-align: top;\n",
       "    }\n",
       "\n",
       "    .dataframe thead th {\n",
       "        text-align: right;\n",
       "    }\n",
       "</style>\n",
       "<table border=\"1\" class=\"dataframe\">\n",
       "  <thead>\n",
       "    <tr style=\"text-align: right;\">\n",
       "      <th></th>\n",
       "      <th>yearmonths</th>\n",
       "      <th>Total_churned</th>\n",
       "    </tr>\n",
       "  </thead>\n",
       "  <tbody>\n",
       "    <tr>\n",
       "      <th>0</th>\n",
       "      <td>201101</td>\n",
       "      <td>NaN</td>\n",
       "    </tr>\n",
       "    <tr>\n",
       "      <th>1</th>\n",
       "      <td>201102</td>\n",
       "      <td>NaN</td>\n",
       "    </tr>\n",
       "    <tr>\n",
       "      <th>2</th>\n",
       "      <td>201103</td>\n",
       "      <td>8.0</td>\n",
       "    </tr>\n",
       "    <tr>\n",
       "      <th>3</th>\n",
       "      <td>201104</td>\n",
       "      <td>16.0</td>\n",
       "    </tr>\n",
       "    <tr>\n",
       "      <th>4</th>\n",
       "      <td>201105</td>\n",
       "      <td>29.0</td>\n",
       "    </tr>\n",
       "  </tbody>\n",
       "</table>\n",
       "</div>"
      ],
      "text/plain": [
       "   yearmonths  Total_churned\n",
       "0      201101            NaN\n",
       "1      201102            NaN\n",
       "2      201103            8.0\n",
       "3      201104           16.0\n",
       "4      201105           29.0"
      ]
     },
     "execution_count": 54,
     "metadata": {},
     "output_type": "execute_result"
    }
   ],
   "source": [
    "df.head()"
   ]
  },
  {
   "cell_type": "code",
   "execution_count": 55,
   "metadata": {},
   "outputs": [
    {
     "name": "stdout",
     "output_type": "stream",
     "text": [
      "<class 'pandas.core.frame.DataFrame'>\n",
      "RangeIndex: 47 entries, 0 to 46\n",
      "Data columns (total 2 columns):\n",
      " #   Column         Non-Null Count  Dtype  \n",
      "---  ------         --------------  -----  \n",
      " 0   yearmonths     47 non-null     int64  \n",
      " 1   Total_churned  45 non-null     float64\n",
      "dtypes: float64(1), int64(1)\n",
      "memory usage: 880.0 bytes\n"
     ]
    }
   ],
   "source": [
    "df.info()"
   ]
  },
  {
   "cell_type": "code",
   "execution_count": 56,
   "metadata": {},
   "outputs": [],
   "source": [
    "df.fillna(0, inplace = True) # df[\"Total_churned\"].fillna(0)"
   ]
  },
  {
   "cell_type": "code",
   "execution_count": 57,
   "metadata": {},
   "outputs": [
    {
     "data": {
      "text/html": [
       "<div>\n",
       "<style scoped>\n",
       "    .dataframe tbody tr th:only-of-type {\n",
       "        vertical-align: middle;\n",
       "    }\n",
       "\n",
       "    .dataframe tbody tr th {\n",
       "        vertical-align: top;\n",
       "    }\n",
       "\n",
       "    .dataframe thead th {\n",
       "        text-align: right;\n",
       "    }\n",
       "</style>\n",
       "<table border=\"1\" class=\"dataframe\">\n",
       "  <thead>\n",
       "    <tr style=\"text-align: right;\">\n",
       "      <th></th>\n",
       "      <th>yearmonths</th>\n",
       "      <th>Total_churned</th>\n",
       "    </tr>\n",
       "  </thead>\n",
       "  <tbody>\n",
       "    <tr>\n",
       "      <th>0</th>\n",
       "      <td>201101</td>\n",
       "      <td>0.0</td>\n",
       "    </tr>\n",
       "    <tr>\n",
       "      <th>1</th>\n",
       "      <td>201102</td>\n",
       "      <td>0.0</td>\n",
       "    </tr>\n",
       "    <tr>\n",
       "      <th>2</th>\n",
       "      <td>201103</td>\n",
       "      <td>8.0</td>\n",
       "    </tr>\n",
       "    <tr>\n",
       "      <th>3</th>\n",
       "      <td>201104</td>\n",
       "      <td>16.0</td>\n",
       "    </tr>\n",
       "    <tr>\n",
       "      <th>4</th>\n",
       "      <td>201105</td>\n",
       "      <td>29.0</td>\n",
       "    </tr>\n",
       "  </tbody>\n",
       "</table>\n",
       "</div>"
      ],
      "text/plain": [
       "   yearmonths  Total_churned\n",
       "0      201101            0.0\n",
       "1      201102            0.0\n",
       "2      201103            8.0\n",
       "3      201104           16.0\n",
       "4      201105           29.0"
      ]
     },
     "execution_count": 57,
     "metadata": {},
     "output_type": "execute_result"
    }
   ],
   "source": [
    "df.head()"
   ]
  },
  {
   "cell_type": "code",
   "execution_count": 58,
   "metadata": {},
   "outputs": [],
   "source": [
    "# churn_rate = Total_churned/(total_churned+existing)\n",
    "\n",
    "# churn_rate = Total_churned/total_presence"
   ]
  },
  {
   "cell_type": "code",
   "execution_count": 59,
   "metadata": {},
   "outputs": [
    {
     "data": {
      "text/html": [
       "<div>\n",
       "<style scoped>\n",
       "    .dataframe tbody tr th:only-of-type {\n",
       "        vertical-align: middle;\n",
       "    }\n",
       "\n",
       "    .dataframe tbody tr th {\n",
       "        vertical-align: top;\n",
       "    }\n",
       "\n",
       "    .dataframe thead th {\n",
       "        text-align: right;\n",
       "    }\n",
       "</style>\n",
       "<table border=\"1\" class=\"dataframe\">\n",
       "  <thead>\n",
       "    <tr style=\"text-align: right;\">\n",
       "      <th></th>\n",
       "      <th>id</th>\n",
       "      <th>customer_id</th>\n",
       "      <th>end_date</th>\n",
       "      <th>start_date</th>\n",
       "      <th>subscription_period</th>\n",
       "      <th>price</th>\n",
       "      <th>churn_month</th>\n",
       "    </tr>\n",
       "  </thead>\n",
       "  <tbody>\n",
       "    <tr>\n",
       "      <th>0</th>\n",
       "      <td>5</td>\n",
       "      <td>1337</td>\n",
       "      <td>2014-12-28 01:40:57</td>\n",
       "      <td>2014-10-25 12:39:18</td>\n",
       "      <td>monthly</td>\n",
       "      <td>50</td>\n",
       "      <td>201412</td>\n",
       "    </tr>\n",
       "    <tr>\n",
       "      <th>1</th>\n",
       "      <td>28</td>\n",
       "      <td>1338</td>\n",
       "      <td>2014-11-19 01:48:05</td>\n",
       "      <td>2014-10-17 13:47:59</td>\n",
       "      <td>monthly</td>\n",
       "      <td>50</td>\n",
       "      <td>201411</td>\n",
       "    </tr>\n",
       "    <tr>\n",
       "      <th>2</th>\n",
       "      <td>44</td>\n",
       "      <td>1339</td>\n",
       "      <td>2014-11-01 20:56:37</td>\n",
       "      <td>2014-10-30 05:50:54</td>\n",
       "      <td>annual</td>\n",
       "      <td>500</td>\n",
       "      <td>201411</td>\n",
       "    </tr>\n",
       "    <tr>\n",
       "      <th>3</th>\n",
       "      <td>85</td>\n",
       "      <td>1340</td>\n",
       "      <td>2014-12-09 02:51:57</td>\n",
       "      <td>2013-12-05 14:51:57</td>\n",
       "      <td>annual</td>\n",
       "      <td>500</td>\n",
       "      <td>201412</td>\n",
       "    </tr>\n",
       "    <tr>\n",
       "      <th>4</th>\n",
       "      <td>168</td>\n",
       "      <td>1341</td>\n",
       "      <td>2015-11-16 09:19:29</td>\n",
       "      <td>2014-11-13 20:19:23</td>\n",
       "      <td>annual</td>\n",
       "      <td>500</td>\n",
       "      <td>201511</td>\n",
       "    </tr>\n",
       "  </tbody>\n",
       "</table>\n",
       "</div>"
      ],
      "text/plain": [
       "    id  customer_id            end_date          start_date  \\\n",
       "0    5         1337 2014-12-28 01:40:57 2014-10-25 12:39:18   \n",
       "1   28         1338 2014-11-19 01:48:05 2014-10-17 13:47:59   \n",
       "2   44         1339 2014-11-01 20:56:37 2014-10-30 05:50:54   \n",
       "3   85         1340 2014-12-09 02:51:57 2013-12-05 14:51:57   \n",
       "4  168         1341 2015-11-16 09:19:29 2014-11-13 20:19:23   \n",
       "\n",
       "  subscription_period  price  churn_month  \n",
       "0             monthly     50       201412  \n",
       "1             monthly     50       201411  \n",
       "2              annual    500       201411  \n",
       "3              annual    500       201412  \n",
       "4              annual    500       201511  "
      ]
     },
     "execution_count": 59,
     "metadata": {},
     "output_type": "execute_result"
    }
   ],
   "source": [
    "subs.head()"
   ]
  },
  {
   "cell_type": "code",
   "execution_count": 60,
   "metadata": {},
   "outputs": [
    {
     "name": "stdout",
     "output_type": "stream",
     "text": [
      "2011 1\n"
     ]
    }
   ],
   "source": [
    "d = 201101\n",
    "\n",
    "y = d//100\n",
    "m = d-y*100\n",
    "print(y, m)"
   ]
  },
  {
   "cell_type": "code",
   "execution_count": 61,
   "metadata": {},
   "outputs": [
    {
     "data": {
      "text/plain": [
       "datetime.datetime(2011, 1, 1, 0, 0)"
      ]
     },
     "execution_count": 61,
     "metadata": {},
     "output_type": "execute_result"
    }
   ],
   "source": [
    "import datetime as dt\n",
    "\n",
    "date = dt.datetime(y, m, 1)\n",
    "date"
   ]
  },
  {
   "cell_type": "code",
   "execution_count": 62,
   "metadata": {},
   "outputs": [],
   "source": [
    "start = subs[\"start_date\"]\n",
    "end = subs[\"end_date\"]"
   ]
  },
  {
   "cell_type": "code",
   "execution_count": 63,
   "metadata": {},
   "outputs": [],
   "source": [
    "# 1. start < date\n",
    "\n",
    "# 2. date <= end"
   ]
  },
  {
   "cell_type": "code",
   "execution_count": 64,
   "metadata": {},
   "outputs": [],
   "source": [
    "# Start 31  March,2021 10\n",
    "# date April,2021\n",
    "# end  18 April,2021 5"
   ]
  },
  {
   "cell_type": "code",
   "execution_count": 65,
   "metadata": {},
   "outputs": [],
   "source": [
    "def total_members(ym):\n",
    "    d = ym\n",
    "    y = d//100\n",
    "    m = d-y*100\n",
    "    \n",
    "    # import datetime as dt\n",
    "    date = dt.datetime(y, m, 1)\n",
    "    \n",
    "    start = subs[\"start_date\"]\n",
    "    end = subs[\"end_date\"]\n",
    "\n",
    "    bol = (start < date) & (date <= end)\n",
    "    return bol.sum()"
   ]
  },
  {
   "cell_type": "code",
   "execution_count": 66,
   "metadata": {},
   "outputs": [
    {
     "data": {
      "text/plain": [
       "0"
      ]
     },
     "execution_count": 66,
     "metadata": {},
     "output_type": "execute_result"
    }
   ],
   "source": [
    "total_members(201101)\n"
   ]
  },
  {
   "cell_type": "code",
   "execution_count": 67,
   "metadata": {},
   "outputs": [
    {
     "data": {
      "text/html": [
       "<div>\n",
       "<style scoped>\n",
       "    .dataframe tbody tr th:only-of-type {\n",
       "        vertical-align: middle;\n",
       "    }\n",
       "\n",
       "    .dataframe tbody tr th {\n",
       "        vertical-align: top;\n",
       "    }\n",
       "\n",
       "    .dataframe thead th {\n",
       "        text-align: right;\n",
       "    }\n",
       "</style>\n",
       "<table border=\"1\" class=\"dataframe\">\n",
       "  <thead>\n",
       "    <tr style=\"text-align: right;\">\n",
       "      <th></th>\n",
       "      <th>yearmonths</th>\n",
       "      <th>Total_churned</th>\n",
       "    </tr>\n",
       "  </thead>\n",
       "  <tbody>\n",
       "    <tr>\n",
       "      <th>0</th>\n",
       "      <td>201101</td>\n",
       "      <td>0.0</td>\n",
       "    </tr>\n",
       "    <tr>\n",
       "      <th>1</th>\n",
       "      <td>201102</td>\n",
       "      <td>0.0</td>\n",
       "    </tr>\n",
       "    <tr>\n",
       "      <th>2</th>\n",
       "      <td>201103</td>\n",
       "      <td>8.0</td>\n",
       "    </tr>\n",
       "    <tr>\n",
       "      <th>3</th>\n",
       "      <td>201104</td>\n",
       "      <td>16.0</td>\n",
       "    </tr>\n",
       "    <tr>\n",
       "      <th>4</th>\n",
       "      <td>201105</td>\n",
       "      <td>29.0</td>\n",
       "    </tr>\n",
       "  </tbody>\n",
       "</table>\n",
       "</div>"
      ],
      "text/plain": [
       "   yearmonths  Total_churned\n",
       "0      201101            0.0\n",
       "1      201102            0.0\n",
       "2      201103            8.0\n",
       "3      201104           16.0\n",
       "4      201105           29.0"
      ]
     },
     "execution_count": 67,
     "metadata": {},
     "output_type": "execute_result"
    }
   ],
   "source": [
    "df.head()"
   ]
  },
  {
   "cell_type": "code",
   "execution_count": 68,
   "metadata": {},
   "outputs": [],
   "source": [
    "df[\"Total_members\"] = df[\"yearmonths\"].apply(total_members)"
   ]
  },
  {
   "cell_type": "code",
   "execution_count": 81,
   "metadata": {},
   "outputs": [],
   "source": [
    "# df.drop(\"total_members\",axis = 1, inplace = True)"
   ]
  },
  {
   "cell_type": "code",
   "execution_count": 70,
   "metadata": {},
   "outputs": [
    {
     "data": {
      "text/html": [
       "<div>\n",
       "<style scoped>\n",
       "    .dataframe tbody tr th:only-of-type {\n",
       "        vertical-align: middle;\n",
       "    }\n",
       "\n",
       "    .dataframe tbody tr th {\n",
       "        vertical-align: top;\n",
       "    }\n",
       "\n",
       "    .dataframe thead th {\n",
       "        text-align: right;\n",
       "    }\n",
       "</style>\n",
       "<table border=\"1\" class=\"dataframe\">\n",
       "  <thead>\n",
       "    <tr style=\"text-align: right;\">\n",
       "      <th></th>\n",
       "      <th>yearmonths</th>\n",
       "      <th>Total_churned</th>\n",
       "      <th>Total_members</th>\n",
       "    </tr>\n",
       "  </thead>\n",
       "  <tbody>\n",
       "    <tr>\n",
       "      <th>0</th>\n",
       "      <td>201101</td>\n",
       "      <td>0.0</td>\n",
       "      <td>0</td>\n",
       "    </tr>\n",
       "    <tr>\n",
       "      <th>1</th>\n",
       "      <td>201102</td>\n",
       "      <td>0.0</td>\n",
       "      <td>17</td>\n",
       "    </tr>\n",
       "    <tr>\n",
       "      <th>2</th>\n",
       "      <td>201103</td>\n",
       "      <td>8.0</td>\n",
       "      <td>47</td>\n",
       "    </tr>\n",
       "    <tr>\n",
       "      <th>3</th>\n",
       "      <td>201104</td>\n",
       "      <td>16.0</td>\n",
       "      <td>82</td>\n",
       "    </tr>\n",
       "    <tr>\n",
       "      <th>4</th>\n",
       "      <td>201105</td>\n",
       "      <td>29.0</td>\n",
       "      <td>105</td>\n",
       "    </tr>\n",
       "  </tbody>\n",
       "</table>\n",
       "</div>"
      ],
      "text/plain": [
       "   yearmonths  Total_churned  Total_members\n",
       "0      201101            0.0              0\n",
       "1      201102            0.0             17\n",
       "2      201103            8.0             47\n",
       "3      201104           16.0             82\n",
       "4      201105           29.0            105"
      ]
     },
     "execution_count": 70,
     "metadata": {},
     "output_type": "execute_result"
    }
   ],
   "source": [
    "df.head()"
   ]
  },
  {
   "cell_type": "code",
   "execution_count": 71,
   "metadata": {},
   "outputs": [],
   "source": [
    "df[\"Churn_rate\"] = df[\"Total_churned\"]/df.Total_members"
   ]
  },
  {
   "cell_type": "code",
   "execution_count": 72,
   "metadata": {},
   "outputs": [
    {
     "data": {
      "text/html": [
       "<div>\n",
       "<style scoped>\n",
       "    .dataframe tbody tr th:only-of-type {\n",
       "        vertical-align: middle;\n",
       "    }\n",
       "\n",
       "    .dataframe tbody tr th {\n",
       "        vertical-align: top;\n",
       "    }\n",
       "\n",
       "    .dataframe thead th {\n",
       "        text-align: right;\n",
       "    }\n",
       "</style>\n",
       "<table border=\"1\" class=\"dataframe\">\n",
       "  <thead>\n",
       "    <tr style=\"text-align: right;\">\n",
       "      <th></th>\n",
       "      <th>yearmonths</th>\n",
       "      <th>Total_churned</th>\n",
       "      <th>Total_members</th>\n",
       "      <th>Churn_rate</th>\n",
       "    </tr>\n",
       "  </thead>\n",
       "  <tbody>\n",
       "    <tr>\n",
       "      <th>0</th>\n",
       "      <td>201101</td>\n",
       "      <td>0.0</td>\n",
       "      <td>0</td>\n",
       "      <td>NaN</td>\n",
       "    </tr>\n",
       "    <tr>\n",
       "      <th>1</th>\n",
       "      <td>201102</td>\n",
       "      <td>0.0</td>\n",
       "      <td>17</td>\n",
       "      <td>0.000000</td>\n",
       "    </tr>\n",
       "    <tr>\n",
       "      <th>2</th>\n",
       "      <td>201103</td>\n",
       "      <td>8.0</td>\n",
       "      <td>47</td>\n",
       "      <td>0.170213</td>\n",
       "    </tr>\n",
       "    <tr>\n",
       "      <th>3</th>\n",
       "      <td>201104</td>\n",
       "      <td>16.0</td>\n",
       "      <td>82</td>\n",
       "      <td>0.195122</td>\n",
       "    </tr>\n",
       "    <tr>\n",
       "      <th>4</th>\n",
       "      <td>201105</td>\n",
       "      <td>29.0</td>\n",
       "      <td>105</td>\n",
       "      <td>0.276190</td>\n",
       "    </tr>\n",
       "  </tbody>\n",
       "</table>\n",
       "</div>"
      ],
      "text/plain": [
       "   yearmonths  Total_churned  Total_members  Churn_rate\n",
       "0      201101            0.0              0         NaN\n",
       "1      201102            0.0             17    0.000000\n",
       "2      201103            8.0             47    0.170213\n",
       "3      201104           16.0             82    0.195122\n",
       "4      201105           29.0            105    0.276190"
      ]
     },
     "execution_count": 72,
     "metadata": {},
     "output_type": "execute_result"
    }
   ],
   "source": [
    "df.head()"
   ]
  },
  {
   "cell_type": "code",
   "execution_count": 73,
   "metadata": {},
   "outputs": [
    {
     "name": "stdout",
     "output_type": "stream",
     "text": [
      "<class 'pandas.core.frame.DataFrame'>\n",
      "RangeIndex: 47 entries, 0 to 46\n",
      "Data columns (total 4 columns):\n",
      " #   Column         Non-Null Count  Dtype  \n",
      "---  ------         --------------  -----  \n",
      " 0   yearmonths     47 non-null     int64  \n",
      " 1   Total_churned  47 non-null     float64\n",
      " 2   Total_members  47 non-null     int64  \n",
      " 3   Churn_rate     46 non-null     float64\n",
      "dtypes: float64(2), int64(2)\n",
      "memory usage: 1.6 KB\n"
     ]
    }
   ],
   "source": [
    "df.info()"
   ]
  },
  {
   "cell_type": "code",
   "execution_count": 74,
   "metadata": {},
   "outputs": [],
   "source": [
    "df.fillna(0, inplace = True)"
   ]
  },
  {
   "cell_type": "code",
   "execution_count": 75,
   "metadata": {},
   "outputs": [
    {
     "data": {
      "text/html": [
       "<div>\n",
       "<style scoped>\n",
       "    .dataframe tbody tr th:only-of-type {\n",
       "        vertical-align: middle;\n",
       "    }\n",
       "\n",
       "    .dataframe tbody tr th {\n",
       "        vertical-align: top;\n",
       "    }\n",
       "\n",
       "    .dataframe thead th {\n",
       "        text-align: right;\n",
       "    }\n",
       "</style>\n",
       "<table border=\"1\" class=\"dataframe\">\n",
       "  <thead>\n",
       "    <tr style=\"text-align: right;\">\n",
       "      <th></th>\n",
       "      <th>yearmonths</th>\n",
       "      <th>Total_churned</th>\n",
       "      <th>Total_members</th>\n",
       "      <th>Churn_rate</th>\n",
       "    </tr>\n",
       "  </thead>\n",
       "  <tbody>\n",
       "    <tr>\n",
       "      <th>0</th>\n",
       "      <td>201101</td>\n",
       "      <td>0.0</td>\n",
       "      <td>0</td>\n",
       "      <td>0.000000</td>\n",
       "    </tr>\n",
       "    <tr>\n",
       "      <th>1</th>\n",
       "      <td>201102</td>\n",
       "      <td>0.0</td>\n",
       "      <td>17</td>\n",
       "      <td>0.000000</td>\n",
       "    </tr>\n",
       "    <tr>\n",
       "      <th>2</th>\n",
       "      <td>201103</td>\n",
       "      <td>8.0</td>\n",
       "      <td>47</td>\n",
       "      <td>0.170213</td>\n",
       "    </tr>\n",
       "    <tr>\n",
       "      <th>3</th>\n",
       "      <td>201104</td>\n",
       "      <td>16.0</td>\n",
       "      <td>82</td>\n",
       "      <td>0.195122</td>\n",
       "    </tr>\n",
       "    <tr>\n",
       "      <th>4</th>\n",
       "      <td>201105</td>\n",
       "      <td>29.0</td>\n",
       "      <td>105</td>\n",
       "      <td>0.276190</td>\n",
       "    </tr>\n",
       "  </tbody>\n",
       "</table>\n",
       "</div>"
      ],
      "text/plain": [
       "   yearmonths  Total_churned  Total_members  Churn_rate\n",
       "0      201101            0.0              0    0.000000\n",
       "1      201102            0.0             17    0.000000\n",
       "2      201103            8.0             47    0.170213\n",
       "3      201104           16.0             82    0.195122\n",
       "4      201105           29.0            105    0.276190"
      ]
     },
     "execution_count": 75,
     "metadata": {},
     "output_type": "execute_result"
    }
   ],
   "source": [
    "df.head()"
   ]
  },
  {
   "cell_type": "code",
   "execution_count": 76,
   "metadata": {},
   "outputs": [],
   "source": [
    "df[\"yearmonths\"]= df[\"yearmonths\"].astype(str)"
   ]
  },
  {
   "cell_type": "code",
   "execution_count": 77,
   "metadata": {},
   "outputs": [],
   "source": [
    "from matplotlib.patches import Ellipse"
   ]
  },
  {
   "cell_type": "code",
   "execution_count": 78,
   "metadata": {},
   "outputs": [
    {
     "data": {
      "image/png": "[encoded data removed]",
      "text/plain": [
       "<Figure size 864x432 with 1 Axes>"
      ]
     },
     "metadata": {
      "needs_background": "light"
     },
     "output_type": "display_data"
    }
   ],
   "source": [
    "ax = df.plot(x = \"yearmonths\",y = \"Churn_rate\" , kind = \"line\", rot = 45, figsize = (12,6), \n",
    "             marker = \".\")\n",
    "start, end = ax.get_xlim()\n",
    "# ax.get_xticks()\n",
    "plt.xticks(np.arange(2, end, 3),df[\"yearmonths\"][2::3])\n",
    "# ax.set_xticklabels(df[\"yearmonths\"][2::3])\n",
    "y = df.loc[df[\"yearmonths\"]==\"201312\",\"Churn_rate\"].iloc[0]\n",
    "x = 36\n",
    "circle =  Ellipse((x,y),5,0.065, color = \"sandybrown\", fill = False)\n",
    "ax.add_artist(circle)\n",
    "ax.spines[\"right\"].set_visible(False)\n",
    "ax.spines[\"top\"].set_visible(False)\n",
    "# ax.axes.get_xaxis().set_label_text(\"\")\n",
    "ax.xaxis.label.set_visible(False)\n",
    "# plt.legend(\"\")\n",
    "ax.get_legend().remove()\n",
    "plt.show()\n"
   ]
  },
  {
   "cell_type": "code",
   "execution_count": 79,
   "metadata": {},
   "outputs": [
    {
     "data": {
      "text/plain": [
       "0.06373937677053824"
      ]
     },
     "execution_count": 79,
     "metadata": {},
     "output_type": "execute_result"
    }
   ],
   "source": [
    "df.loc[df[\"yearmonths\"]==\"201312\",\"Churn_rate\"].iloc[0]"
   ]
  },
  {
   "cell_type": "code",
   "execution_count": 80,
   "metadata": {},
   "outputs": [
    {
     "data": {
      "text/plain": [
       "0.06373937677053824"
      ]
     },
     "execution_count": 80,
     "metadata": {},
     "output_type": "execute_result"
    }
   ],
   "source": [
    "df.loc[df[\"yearmonths\"]==\"201312\",\"Churn_rate\"].loc[35]"
   ]
  },
  {
   "cell_type": "code",
   "execution_count": null,
   "metadata": {},
   "outputs": [],
   "source": []
  }
 ],
 "metadata": {
  "kernelspec": {
   "display_name": "Python 3",
   "language": "python",
   "name": "python3"
  },
  "language_info": {
   "codemirror_mode": {
    "name": "ipython",
    "version": 3
   },
   "file_extension": ".py",
   "mimetype": "text/x-python",
   "name": "python",
   "nbconvert_exporter": "python",
   "pygments_lexer": "ipython3",
   "version": "3.8.3"
  }
 },
 "nbformat": 4,
 "nbformat_minor": 4
}

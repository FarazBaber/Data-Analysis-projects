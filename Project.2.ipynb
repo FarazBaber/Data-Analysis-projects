{
 "cells": [
  {
   "cell_type": "code",
   "execution_count": 1,
   "metadata": {},
   "outputs": [],
   "source": [
    "import numpy as np\n",
    "import pandas as pd\n",
    "import matplotlib.pyplot as plt"
   ]
  },
  {
   "cell_type": "code",
   "execution_count": 2,
   "metadata": {},
   "outputs": [],
   "source": [
    "hn = pd.read_csv(\"news_posts.csv\", parse_dates=[\"created_at\"])"
   ]
  },
  {
   "cell_type": "code",
   "execution_count": 3,
   "metadata": {},
   "outputs": [
    {
     "data": {
      "text/html": [
       "<div>\n",
       "<style scoped>\n",
       "    .dataframe tbody tr th:only-of-type {\n",
       "        vertical-align: middle;\n",
       "    }\n",
       "\n",
       "    .dataframe tbody tr th {\n",
       "        vertical-align: top;\n",
       "    }\n",
       "\n",
       "    .dataframe thead th {\n",
       "        text-align: right;\n",
       "    }\n",
       "</style>\n",
       "<table border=\"1\" class=\"dataframe\">\n",
       "  <thead>\n",
       "    <tr style=\"text-align: right;\">\n",
       "      <th></th>\n",
       "      <th>id</th>\n",
       "      <th>title</th>\n",
       "      <th>url</th>\n",
       "      <th>num_points</th>\n",
       "      <th>num_comments</th>\n",
       "      <th>author</th>\n",
       "      <th>created_at</th>\n",
       "    </tr>\n",
       "  </thead>\n",
       "  <tbody>\n",
       "    <tr>\n",
       "      <th>0</th>\n",
       "      <td>12224879</td>\n",
       "      <td>Interactive Dynamic Video</td>\n",
       "      <td>http://www.interactivedynamicvideo.com/</td>\n",
       "      <td>386</td>\n",
       "      <td>52</td>\n",
       "      <td>ne0phyte</td>\n",
       "      <td>2016-08-04 11:52:00</td>\n",
       "    </tr>\n",
       "    <tr>\n",
       "      <th>1</th>\n",
       "      <td>10975351</td>\n",
       "      <td>How to Use Open Source and Shut the Fuck Up at...</td>\n",
       "      <td>http://hueniverse.com/2016/01/26/how-to-use-op...</td>\n",
       "      <td>39</td>\n",
       "      <td>10</td>\n",
       "      <td>josep2</td>\n",
       "      <td>2016-01-26 19:30:00</td>\n",
       "    </tr>\n",
       "    <tr>\n",
       "      <th>2</th>\n",
       "      <td>11964716</td>\n",
       "      <td>Florida DJs May Face Felony for April Fools' W...</td>\n",
       "      <td>http://www.thewire.com/entertainment/2013/04/f...</td>\n",
       "      <td>2</td>\n",
       "      <td>1</td>\n",
       "      <td>vezycash</td>\n",
       "      <td>2016-06-23 22:20:00</td>\n",
       "    </tr>\n",
       "    <tr>\n",
       "      <th>3</th>\n",
       "      <td>11919867</td>\n",
       "      <td>Technology ventures: From Idea to Enterprise</td>\n",
       "      <td>https://www.amazon.com/Technology-Ventures-Ent...</td>\n",
       "      <td>3</td>\n",
       "      <td>1</td>\n",
       "      <td>hswarna</td>\n",
       "      <td>2016-06-17 00:01:00</td>\n",
       "    </tr>\n",
       "    <tr>\n",
       "      <th>4</th>\n",
       "      <td>10301696</td>\n",
       "      <td>Note by Note: The Making of Steinway L1037 (2007)</td>\n",
       "      <td>http://www.nytimes.com/2007/11/07/movies/07ste...</td>\n",
       "      <td>8</td>\n",
       "      <td>2</td>\n",
       "      <td>walterbell</td>\n",
       "      <td>2015-09-30 04:12:00</td>\n",
       "    </tr>\n",
       "    <tr>\n",
       "      <th>...</th>\n",
       "      <td>...</td>\n",
       "      <td>...</td>\n",
       "      <td>...</td>\n",
       "      <td>...</td>\n",
       "      <td>...</td>\n",
       "      <td>...</td>\n",
       "      <td>...</td>\n",
       "    </tr>\n",
       "    <tr>\n",
       "      <th>20095</th>\n",
       "      <td>12379592</td>\n",
       "      <td>How Purism Avoids Intels Active Management Tec...</td>\n",
       "      <td>https://puri.sm/philosophy/how-purism-avoids-i...</td>\n",
       "      <td>10</td>\n",
       "      <td>6</td>\n",
       "      <td>AdmiralAsshat</td>\n",
       "      <td>2016-08-29 02:22:00</td>\n",
       "    </tr>\n",
       "    <tr>\n",
       "      <th>20096</th>\n",
       "      <td>10339284</td>\n",
       "      <td>YC Application Translated and Broken Down</td>\n",
       "      <td>https://medium.com/@zreitano/the-yc-applicatio...</td>\n",
       "      <td>4</td>\n",
       "      <td>1</td>\n",
       "      <td>zreitano</td>\n",
       "      <td>2015-10-06 14:57:00</td>\n",
       "    </tr>\n",
       "    <tr>\n",
       "      <th>20097</th>\n",
       "      <td>10824382</td>\n",
       "      <td>Microkernels are slow and Elvis didn't do no d...</td>\n",
       "      <td>http://blog.darknedgy.net/technology/2016/01/0...</td>\n",
       "      <td>169</td>\n",
       "      <td>132</td>\n",
       "      <td>vezzy-fnord</td>\n",
       "      <td>2016-01-02 00:49:00</td>\n",
       "    </tr>\n",
       "    <tr>\n",
       "      <th>20098</th>\n",
       "      <td>10739875</td>\n",
       "      <td>How Product Hunt really works</td>\n",
       "      <td>https://medium.com/@benjiwheeler/how-product-h...</td>\n",
       "      <td>695</td>\n",
       "      <td>222</td>\n",
       "      <td>brw12</td>\n",
       "      <td>2015-12-15 19:32:00</td>\n",
       "    </tr>\n",
       "    <tr>\n",
       "      <th>20099</th>\n",
       "      <td>11680777</td>\n",
       "      <td>RoboBrowser: Your friendly neighborhood web sc...</td>\n",
       "      <td>https://github.com/jmcarp/robobrowser</td>\n",
       "      <td>182</td>\n",
       "      <td>58</td>\n",
       "      <td>pmoriarty</td>\n",
       "      <td>2016-05-12 01:43:00</td>\n",
       "    </tr>\n",
       "  </tbody>\n",
       "</table>\n",
       "<p>20100 rows × 7 columns</p>\n",
       "</div>"
      ],
      "text/plain": [
       "             id                                              title  \\\n",
       "0      12224879                          Interactive Dynamic Video   \n",
       "1      10975351  How to Use Open Source and Shut the Fuck Up at...   \n",
       "2      11964716  Florida DJs May Face Felony for April Fools' W...   \n",
       "3      11919867       Technology ventures: From Idea to Enterprise   \n",
       "4      10301696  Note by Note: The Making of Steinway L1037 (2007)   \n",
       "...         ...                                                ...   \n",
       "20095  12379592  How Purism Avoids Intels Active Management Tec...   \n",
       "20096  10339284          YC Application Translated and Broken Down   \n",
       "20097  10824382  Microkernels are slow and Elvis didn't do no d...   \n",
       "20098  10739875                      How Product Hunt really works   \n",
       "20099  11680777  RoboBrowser: Your friendly neighborhood web sc...   \n",
       "\n",
       "                                                     url  num_points  \\\n",
       "0                http://www.interactivedynamicvideo.com/         386   \n",
       "1      http://hueniverse.com/2016/01/26/how-to-use-op...          39   \n",
       "2      http://www.thewire.com/entertainment/2013/04/f...           2   \n",
       "3      https://www.amazon.com/Technology-Ventures-Ent...           3   \n",
       "4      http://www.nytimes.com/2007/11/07/movies/07ste...           8   \n",
       "...                                                  ...         ...   \n",
       "20095  https://puri.sm/philosophy/how-purism-avoids-i...          10   \n",
       "20096  https://medium.com/@zreitano/the-yc-applicatio...           4   \n",
       "20097  http://blog.darknedgy.net/technology/2016/01/0...         169   \n",
       "20098  https://medium.com/@benjiwheeler/how-product-h...         695   \n",
       "20099              https://github.com/jmcarp/robobrowser         182   \n",
       "\n",
       "       num_comments         author          created_at  \n",
       "0                52       ne0phyte 2016-08-04 11:52:00  \n",
       "1                10         josep2 2016-01-26 19:30:00  \n",
       "2                 1       vezycash 2016-06-23 22:20:00  \n",
       "3                 1        hswarna 2016-06-17 00:01:00  \n",
       "4                 2     walterbell 2015-09-30 04:12:00  \n",
       "...             ...            ...                 ...  \n",
       "20095             6  AdmiralAsshat 2016-08-29 02:22:00  \n",
       "20096             1       zreitano 2015-10-06 14:57:00  \n",
       "20097           132    vezzy-fnord 2016-01-02 00:49:00  \n",
       "20098           222          brw12 2015-12-15 19:32:00  \n",
       "20099            58      pmoriarty 2016-05-12 01:43:00  \n",
       "\n",
       "[20100 rows x 7 columns]"
      ]
     },
     "execution_count": 3,
     "metadata": {},
     "output_type": "execute_result"
    }
   ],
   "source": [
    "hn"
   ]
  },
  {
   "cell_type": "code",
   "execution_count": 21,
   "metadata": {},
   "outputs": [
    {
     "data": {
      "text/plain": [
       "0        False\n",
       "1        False\n",
       "2        False\n",
       "3        False\n",
       "4        False\n",
       "         ...  \n",
       "20095    False\n",
       "20096    False\n",
       "20097    False\n",
       "20098    False\n",
       "20099    False\n",
       "Name: title, Length: 20100, dtype: bool"
      ]
     },
     "execution_count": 21,
     "metadata": {},
     "output_type": "execute_result"
    }
   ],
   "source": [
    "ask_bol = hn[\"title\"].str.lower().str.startswith(\"ask hn\")\n",
    "ask_bol"
   ]
  },
  {
   "cell_type": "code",
   "execution_count": 22,
   "metadata": {},
   "outputs": [
    {
     "data": {
      "text/plain": [
       "0        False\n",
       "1        False\n",
       "2        False\n",
       "3        False\n",
       "4        False\n",
       "         ...  \n",
       "20095    False\n",
       "20096    False\n",
       "20097    False\n",
       "20098    False\n",
       "20099    False\n",
       "Name: title, Length: 20100, dtype: bool"
      ]
     },
     "execution_count": 22,
     "metadata": {},
     "output_type": "execute_result"
    }
   ],
   "source": [
    "show_bol = hn[\"title\"].str.lower().str.startswith(\"show hn\")\n",
    "show_bol"
   ]
  },
  {
   "cell_type": "code",
   "execution_count": 6,
   "metadata": {},
   "outputs": [],
   "source": [
    "ask_posts = hn[ask_bol].copy()"
   ]
  },
  {
   "cell_type": "code",
   "execution_count": 7,
   "metadata": {},
   "outputs": [],
   "source": [
    "show_posts = hn[show_bol].copy()"
   ]
  },
  {
   "cell_type": "code",
   "execution_count": 8,
   "metadata": {},
   "outputs": [],
   "source": [
    "other_posts = hn[~ (ask_bol | show_bol)]  # ~ not, | or "
   ]
  },
  {
   "cell_type": "code",
   "execution_count": 9,
   "metadata": {},
   "outputs": [],
   "source": [
    "ask_avg_com = ask_posts[\"num_comments\"].mean()"
   ]
  },
  {
   "cell_type": "code",
   "execution_count": 10,
   "metadata": {},
   "outputs": [],
   "source": [
    "show_avg_com = show_posts[\"num_comments\"].mean()"
   ]
  },
  {
   "cell_type": "code",
   "execution_count": 11,
   "metadata": {},
   "outputs": [
    {
     "name": "stdout",
     "output_type": "stream",
     "text": [
      "14.038417431192661 10.31669535283993\n"
     ]
    }
   ],
   "source": [
    "print(ask_avg_com, show_avg_com)"
   ]
  },
  {
   "cell_type": "code",
   "execution_count": 12,
   "metadata": {},
   "outputs": [],
   "source": [
    "avg_com = pd.Series({\"ask_com\":ask_avg_com, \"show_com\":show_avg_com})     #making a series to make a bar chart"
   ]
  },
  {
   "cell_type": "code",
   "execution_count": 13,
   "metadata": {},
   "outputs": [
    {
     "data": {
      "text/plain": [
       "ask_com     14.038417\n",
       "show_com    10.316695\n",
       "dtype: float64"
      ]
     },
     "execution_count": 13,
     "metadata": {},
     "output_type": "execute_result"
    }
   ],
   "source": [
    "avg_com"
   ]
  },
  {
   "cell_type": "code",
   "execution_count": 14,
   "metadata": {},
   "outputs": [
    {
     "data": {
      "text/plain": [
       "<matplotlib.axes._subplots.AxesSubplot at 0x2715ebbd9a0>"
      ]
     },
     "execution_count": 14,
     "metadata": {},
     "output_type": "execute_result"
    },
    {
     "data": {
      "image/png": "[encoded data removed]",
      "text/plain": [
       "<Figure size 432x288 with 1 Axes>"
      ]
     },
     "metadata": {
      "needs_background": "light"
     },
     "output_type": "display_data"
    }
   ],
   "source": [
    "avg_com.plot.bar()"
   ]
  },
  {
   "cell_type": "code",
   "execution_count": 15,
   "metadata": {},
   "outputs": [],
   "source": [
    "ask_posts[\"hours\"] = ask_posts[\"created_at\"].dt.hour # to return hours"
   ]
  },
  {
   "cell_type": "code",
   "execution_count": 16,
   "metadata": {},
   "outputs": [
    {
     "data": {
      "text/html": [
       "<div>\n",
       "<style scoped>\n",
       "    .dataframe tbody tr th:only-of-type {\n",
       "        vertical-align: middle;\n",
       "    }\n",
       "\n",
       "    .dataframe tbody tr th {\n",
       "        vertical-align: top;\n",
       "    }\n",
       "\n",
       "    .dataframe thead th {\n",
       "        text-align: right;\n",
       "    }\n",
       "</style>\n",
       "<table border=\"1\" class=\"dataframe\">\n",
       "  <thead>\n",
       "    <tr style=\"text-align: right;\">\n",
       "      <th></th>\n",
       "      <th>id</th>\n",
       "      <th>title</th>\n",
       "      <th>url</th>\n",
       "      <th>num_points</th>\n",
       "      <th>num_comments</th>\n",
       "      <th>author</th>\n",
       "      <th>created_at</th>\n",
       "      <th>hours</th>\n",
       "    </tr>\n",
       "  </thead>\n",
       "  <tbody>\n",
       "    <tr>\n",
       "      <th>7</th>\n",
       "      <td>12296411</td>\n",
       "      <td>Ask HN: How to improve my personal website?</td>\n",
       "      <td>NaN</td>\n",
       "      <td>2</td>\n",
       "      <td>6</td>\n",
       "      <td>ahmedbaracat</td>\n",
       "      <td>2016-08-16 09:55:00</td>\n",
       "      <td>9</td>\n",
       "    </tr>\n",
       "    <tr>\n",
       "      <th>17</th>\n",
       "      <td>10610020</td>\n",
       "      <td>Ask HN: Am I the only one outraged by Twitter ...</td>\n",
       "      <td>NaN</td>\n",
       "      <td>28</td>\n",
       "      <td>29</td>\n",
       "      <td>tkfx</td>\n",
       "      <td>2015-11-22 13:43:00</td>\n",
       "      <td>13</td>\n",
       "    </tr>\n",
       "    <tr>\n",
       "      <th>22</th>\n",
       "      <td>11610310</td>\n",
       "      <td>Ask HN: Aby recent changes to CSS that broke m...</td>\n",
       "      <td>NaN</td>\n",
       "      <td>1</td>\n",
       "      <td>1</td>\n",
       "      <td>polskibus</td>\n",
       "      <td>2016-05-02 10:14:00</td>\n",
       "      <td>10</td>\n",
       "    </tr>\n",
       "    <tr>\n",
       "      <th>30</th>\n",
       "      <td>12210105</td>\n",
       "      <td>Ask HN: Looking for Employee #3 How do I do it?</td>\n",
       "      <td>NaN</td>\n",
       "      <td>1</td>\n",
       "      <td>3</td>\n",
       "      <td>sph130</td>\n",
       "      <td>2016-08-02 14:20:00</td>\n",
       "      <td>14</td>\n",
       "    </tr>\n",
       "    <tr>\n",
       "      <th>31</th>\n",
       "      <td>10394168</td>\n",
       "      <td>Ask HN: Someone offered to buy my browser exte...</td>\n",
       "      <td>NaN</td>\n",
       "      <td>28</td>\n",
       "      <td>17</td>\n",
       "      <td>roykolak</td>\n",
       "      <td>2015-10-15 16:38:00</td>\n",
       "      <td>16</td>\n",
       "    </tr>\n",
       "  </tbody>\n",
       "</table>\n",
       "</div>"
      ],
      "text/plain": [
       "          id                                              title  url  \\\n",
       "7   12296411        Ask HN: How to improve my personal website?  NaN   \n",
       "17  10610020  Ask HN: Am I the only one outraged by Twitter ...  NaN   \n",
       "22  11610310  Ask HN: Aby recent changes to CSS that broke m...  NaN   \n",
       "30  12210105    Ask HN: Looking for Employee #3 How do I do it?  NaN   \n",
       "31  10394168  Ask HN: Someone offered to buy my browser exte...  NaN   \n",
       "\n",
       "    num_points  num_comments        author          created_at  hours  \n",
       "7            2             6  ahmedbaracat 2016-08-16 09:55:00      9  \n",
       "17          28            29          tkfx 2015-11-22 13:43:00     13  \n",
       "22           1             1     polskibus 2016-05-02 10:14:00     10  \n",
       "30           1             3        sph130 2016-08-02 14:20:00     14  \n",
       "31          28            17      roykolak 2015-10-15 16:38:00     16  "
      ]
     },
     "execution_count": 16,
     "metadata": {},
     "output_type": "execute_result"
    }
   ],
   "source": [
    "ask_posts.head()"
   ]
  },
  {
   "cell_type": "code",
   "execution_count": 17,
   "metadata": {},
   "outputs": [
    {
     "data": {
      "text/plain": [
       "hours\n",
       "15    38.594828\n",
       "2     23.810345\n",
       "20    21.525000\n",
       "16    16.796296\n",
       "21    16.009174\n",
       "13    14.741176\n",
       "10    13.440678\n",
       "14    13.233645\n",
       "18    13.201835\n",
       "17    11.460000\n",
       "1     11.383333\n",
       "11    11.051724\n",
       "19    10.800000\n",
       "8     10.250000\n",
       "5     10.086957\n",
       "12     9.410959\n",
       "6      9.022727\n",
       "0      8.127273\n",
       "23     7.985294\n",
       "7      7.852941\n",
       "3      7.796296\n",
       "4      7.170213\n",
       "22     6.746479\n",
       "9      5.577778\n",
       "Name: num_comments, dtype: float64"
      ]
     },
     "execution_count": 17,
     "metadata": {},
     "output_type": "execute_result"
    }
   ],
   "source": [
    "ask_posts.groupby(\"hours\")[\"num_comments\"].mean().sort_values(ascending = False)"
   ]
  },
  {
   "cell_type": "code",
   "execution_count": 18,
   "metadata": {},
   "outputs": [],
   "source": [
    "show_posts[\"hours\"] = show_posts[\"hours\"] = show_posts[\"created_at\"].dt.hour"
   ]
  },
  {
   "cell_type": "code",
   "execution_count": 19,
   "metadata": {},
   "outputs": [
    {
     "data": {
      "text/html": [
       "<div>\n",
       "<style scoped>\n",
       "    .dataframe tbody tr th:only-of-type {\n",
       "        vertical-align: middle;\n",
       "    }\n",
       "\n",
       "    .dataframe tbody tr th {\n",
       "        vertical-align: top;\n",
       "    }\n",
       "\n",
       "    .dataframe thead th {\n",
       "        text-align: right;\n",
       "    }\n",
       "</style>\n",
       "<table border=\"1\" class=\"dataframe\">\n",
       "  <thead>\n",
       "    <tr style=\"text-align: right;\">\n",
       "      <th></th>\n",
       "      <th>id</th>\n",
       "      <th>title</th>\n",
       "      <th>url</th>\n",
       "      <th>num_points</th>\n",
       "      <th>num_comments</th>\n",
       "      <th>author</th>\n",
       "      <th>created_at</th>\n",
       "      <th>hours</th>\n",
       "    </tr>\n",
       "  </thead>\n",
       "  <tbody>\n",
       "    <tr>\n",
       "      <th>13</th>\n",
       "      <td>10627194</td>\n",
       "      <td>Show HN: Wio Link  ESP8266 Based Web of Things...</td>\n",
       "      <td>https://iot.seeed.cc</td>\n",
       "      <td>26</td>\n",
       "      <td>22</td>\n",
       "      <td>kfihihc</td>\n",
       "      <td>2015-11-25 14:03:00</td>\n",
       "      <td>14</td>\n",
       "    </tr>\n",
       "    <tr>\n",
       "      <th>39</th>\n",
       "      <td>10646440</td>\n",
       "      <td>Show HN: Something pointless I made</td>\n",
       "      <td>http://dn.ht/picklecat/</td>\n",
       "      <td>747</td>\n",
       "      <td>102</td>\n",
       "      <td>dhotson</td>\n",
       "      <td>2015-11-29 22:46:00</td>\n",
       "      <td>22</td>\n",
       "    </tr>\n",
       "    <tr>\n",
       "      <th>46</th>\n",
       "      <td>11590768</td>\n",
       "      <td>Show HN: Shanhu.io, a programming playground p...</td>\n",
       "      <td>https://shanhu.io</td>\n",
       "      <td>1</td>\n",
       "      <td>1</td>\n",
       "      <td>h8liu</td>\n",
       "      <td>2016-04-28 18:05:00</td>\n",
       "      <td>18</td>\n",
       "    </tr>\n",
       "    <tr>\n",
       "      <th>84</th>\n",
       "      <td>12178806</td>\n",
       "      <td>Show HN: Webscope  Easy way for web developers...</td>\n",
       "      <td>http://webscopeapp.com</td>\n",
       "      <td>3</td>\n",
       "      <td>3</td>\n",
       "      <td>fastbrick</td>\n",
       "      <td>2016-07-28 07:11:00</td>\n",
       "      <td>7</td>\n",
       "    </tr>\n",
       "    <tr>\n",
       "      <th>97</th>\n",
       "      <td>10872799</td>\n",
       "      <td>Show HN: GeoScreenshot  Easily test Geo-IP bas...</td>\n",
       "      <td>https://www.geoscreenshot.com/</td>\n",
       "      <td>1</td>\n",
       "      <td>9</td>\n",
       "      <td>kpsychwave</td>\n",
       "      <td>2016-01-09 20:45:00</td>\n",
       "      <td>20</td>\n",
       "    </tr>\n",
       "  </tbody>\n",
       "</table>\n",
       "</div>"
      ],
      "text/plain": [
       "          id                                              title  \\\n",
       "13  10627194  Show HN: Wio Link  ESP8266 Based Web of Things...   \n",
       "39  10646440                Show HN: Something pointless I made   \n",
       "46  11590768  Show HN: Shanhu.io, a programming playground p...   \n",
       "84  12178806  Show HN: Webscope  Easy way for web developers...   \n",
       "97  10872799  Show HN: GeoScreenshot  Easily test Geo-IP bas...   \n",
       "\n",
       "                               url  num_points  num_comments      author  \\\n",
       "13            https://iot.seeed.cc          26            22     kfihihc   \n",
       "39         http://dn.ht/picklecat/         747           102     dhotson   \n",
       "46               https://shanhu.io           1             1       h8liu   \n",
       "84          http://webscopeapp.com           3             3   fastbrick   \n",
       "97  https://www.geoscreenshot.com/           1             9  kpsychwave   \n",
       "\n",
       "            created_at  hours  \n",
       "13 2015-11-25 14:03:00     14  \n",
       "39 2015-11-29 22:46:00     22  \n",
       "46 2016-04-28 18:05:00     18  \n",
       "84 2016-07-28 07:11:00      7  \n",
       "97 2016-01-09 20:45:00     20  "
      ]
     },
     "execution_count": 19,
     "metadata": {},
     "output_type": "execute_result"
    }
   ],
   "source": [
    "show_posts.head()"
   ]
  },
  {
   "cell_type": "code",
   "execution_count": 20,
   "metadata": {},
   "outputs": [
    {
     "data": {
      "text/plain": [
       "hours\n",
       "18    15.770492\n",
       "0     15.709677\n",
       "14    13.441860\n",
       "23    12.416667\n",
       "22    12.391304\n",
       "12    11.803279\n",
       "16    11.655914\n",
       "7     11.500000\n",
       "11    11.159091\n",
       "3     10.629630\n",
       "20    10.200000\n",
       "19     9.800000\n",
       "17     9.795699\n",
       "9      9.700000\n",
       "13     9.555556\n",
       "4      9.500000\n",
       "6      8.875000\n",
       "1      8.785714\n",
       "10     8.250000\n",
       "15     8.102564\n",
       "21     5.787234\n",
       "8      4.852941\n",
       "2      4.233333\n",
       "5      3.052632\n",
       "Name: num_comments, dtype: float64"
      ]
     },
     "execution_count": 20,
     "metadata": {},
     "output_type": "execute_result"
    }
   ],
   "source": [
    "show_posts.groupby(\"hours\")[\"num_comments\"].mean().sort_values(ascending=False)"
   ]
  },
  {
   "cell_type": "code",
   "execution_count": null,
   "metadata": {},
   "outputs": [],
   "source": []
  },
  {
   "cell_type": "code",
   "execution_count": null,
   "metadata": {},
   "outputs": [],
   "source": []
  },
  {
   "cell_type": "code",
   "execution_count": null,
   "metadata": {},
   "outputs": [],
   "source": []
  },
  {
   "cell_type": "code",
   "execution_count": null,
   "metadata": {},
   "outputs": [],
   "source": []
  }
 ],
 "metadata": {
  "kernelspec": {
   "display_name": "Python 3",
   "language": "python",
   "name": "python3"
  },
  "language_info": {
   "codemirror_mode": {
    "name": "ipython",
    "version": 3
   },
   "file_extension": ".py",
   "mimetype": "text/x-python",
   "name": "python",
   "nbconvert_exporter": "python",
   "pygments_lexer": "ipython3",
   "version": "3.8.3"
  }
 },
 "nbformat": 4,
 "nbformat_minor": 4
}
